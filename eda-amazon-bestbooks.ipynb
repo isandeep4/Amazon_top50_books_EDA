{
 "cells": [
  {
   "cell_type": "code",
   "execution_count": 1,
   "id": "b45e9fd8",
   "metadata": {
    "_cell_guid": "b1076dfc-b9ad-4769-8c92-a6c4dae69d19",
    "_uuid": "8f2839f25d086af736a60e9eeb907d3b93b6e0e5",
    "execution": {
     "iopub.execute_input": "2021-12-12T22:13:23.759282Z",
     "iopub.status.busy": "2021-12-12T22:13:23.749226Z",
     "iopub.status.idle": "2021-12-12T22:13:24.876058Z",
     "shell.execute_reply": "2021-12-12T22:13:24.875390Z",
     "shell.execute_reply.started": "2021-12-12T21:00:36.262554Z"
    },
    "papermill": {
     "duration": 1.170886,
     "end_time": "2021-12-12T22:13:24.876237",
     "exception": false,
     "start_time": "2021-12-12T22:13:23.705351",
     "status": "completed"
    },
    "tags": []
   },
   "outputs": [
    {
     "name": "stdout",
     "output_type": "stream",
     "text": [
      "/kaggle/input/amazon-top-50-bestselling-books-2009-2019/bestsellers with categories.csv\n"
     ]
    }
   ],
   "source": [
    "# This Python 3 environment comes with many helpful analytics libraries installed\n",
    "# It is defined by the kaggle/python Docker image: https://github.com/kaggle/docker-python\n",
    "# For example, here's several helpful packages to load\n",
    "\n",
    "import numpy as np # linear algebra\n",
    "import pandas as pd # data processing, CSV file I/O (e.g. pd.read_csv)\n",
    "import matplotlib.pyplot as plt\n",
    "import seaborn as sns\n",
    "import random\n",
    "# Input data files are available in the read-only \"../input/\" directory\n",
    "# For example, running this (by clicking run or pressing Shift+Enter) will list all files under the input directory\n",
    "\n",
    "import os\n",
    "for dirname, _, filenames in os.walk('/kaggle/input'):\n",
    "    for filename in filenames:\n",
    "        print(os.path.join(dirname, filename))\n",
    "\n",
    "# You can write up to 20GB to the current directory (/kaggle/working/) that gets preserved as output when you create a version using \"Save & Run All\" \n",
    "# You can also write temporary files to /kaggle/temp/, but they won't be saved outside of the current session"
   ]
  },
  {
   "cell_type": "code",
   "execution_count": 2,
   "id": "445ea2f6",
   "metadata": {
    "execution": {
     "iopub.execute_input": "2021-12-12T22:13:24.962969Z",
     "iopub.status.busy": "2021-12-12T22:13:24.962232Z",
     "iopub.status.idle": "2021-12-12T22:13:24.994513Z",
     "shell.execute_reply": "2021-12-12T22:13:24.995065Z",
     "shell.execute_reply.started": "2021-12-12T20:03:48.342602Z"
    },
    "papermill": {
     "duration": 0.076826,
     "end_time": "2021-12-12T22:13:24.995242",
     "exception": false,
     "start_time": "2021-12-12T22:13:24.918416",
     "status": "completed"
    },
    "tags": []
   },
   "outputs": [
    {
     "name": "stdout",
     "output_type": "stream",
     "text": [
      "                                                  Name  \\\n",
      "0                        10-Day Green Smoothie Cleanse   \n",
      "1                                    11/22/63: A Novel   \n",
      "2              12 Rules for Life: An Antidote to Chaos   \n",
      "3                               1984 (Signet Classics)   \n",
      "4    5,000 Awesome Facts (About Everything!) (Natio...   \n",
      "..                                                 ...   \n",
      "545       Wrecking Ball (Diary of a Wimpy Kid Book 14)   \n",
      "546  You Are a Badass: How to Stop Doubting Your Gr...   \n",
      "547  You Are a Badass: How to Stop Doubting Your Gr...   \n",
      "548  You Are a Badass: How to Stop Doubting Your Gr...   \n",
      "549  You Are a Badass: How to Stop Doubting Your Gr...   \n",
      "\n",
      "                       Author  User Rating  Reviews  Price  Year        Genre  \n",
      "0                    JJ Smith          4.7    17350      8  2016  Non Fiction  \n",
      "1                Stephen King          4.6     2052     22  2011      Fiction  \n",
      "2          Jordan B. Peterson          4.7    18979     15  2018  Non Fiction  \n",
      "3               George Orwell          4.7    21424      6  2017      Fiction  \n",
      "4    National Geographic Kids          4.8     7665     12  2019  Non Fiction  \n",
      "..                        ...          ...      ...    ...   ...          ...  \n",
      "545               Jeff Kinney          4.9     9413      8  2019      Fiction  \n",
      "546               Jen Sincero          4.7    14331      8  2016  Non Fiction  \n",
      "547               Jen Sincero          4.7    14331      8  2017  Non Fiction  \n",
      "548               Jen Sincero          4.7    14331      8  2018  Non Fiction  \n",
      "549               Jen Sincero          4.7    14331      8  2019  Non Fiction  \n",
      "\n",
      "[550 rows x 7 columns]\n",
      "Index(['Name', 'Author', 'User Rating', 'Reviews', 'Price', 'Year', 'Genre'], dtype='object')\n"
     ]
    }
   ],
   "source": [
    "books_df = pd.read_csv('/kaggle/input/amazon-top-50-bestselling-books-2009-2019/bestsellers with categories.csv')\n",
    "print(books_df)\n",
    "print(books_df.columns)"
   ]
  },
  {
   "cell_type": "code",
   "execution_count": 3,
   "id": "ffda5e7d",
   "metadata": {
    "execution": {
     "iopub.execute_input": "2021-12-12T22:13:25.081807Z",
     "iopub.status.busy": "2021-12-12T22:13:25.080296Z",
     "iopub.status.idle": "2021-12-12T22:13:25.109419Z",
     "shell.execute_reply": "2021-12-12T22:13:25.109945Z",
     "shell.execute_reply.started": "2021-12-12T20:04:18.477908Z"
    },
    "papermill": {
     "duration": 0.077084,
     "end_time": "2021-12-12T22:13:25.110133",
     "exception": false,
     "start_time": "2021-12-12T22:13:25.033049",
     "status": "completed"
    },
    "tags": []
   },
   "outputs": [
    {
     "data": {
      "text/html": [
       "<div>\n",
       "<style scoped>\n",
       "    .dataframe tbody tr th:only-of-type {\n",
       "        vertical-align: middle;\n",
       "    }\n",
       "\n",
       "    .dataframe tbody tr th {\n",
       "        vertical-align: top;\n",
       "    }\n",
       "\n",
       "    .dataframe thead th {\n",
       "        text-align: right;\n",
       "    }\n",
       "</style>\n",
       "<table border=\"1\" class=\"dataframe\">\n",
       "  <thead>\n",
       "    <tr style=\"text-align: right;\">\n",
       "      <th></th>\n",
       "      <th>User Rating</th>\n",
       "      <th>Reviews</th>\n",
       "      <th>Price</th>\n",
       "      <th>Year</th>\n",
       "    </tr>\n",
       "  </thead>\n",
       "  <tbody>\n",
       "    <tr>\n",
       "      <th>count</th>\n",
       "      <td>550.000000</td>\n",
       "      <td>550.000000</td>\n",
       "      <td>550.000000</td>\n",
       "      <td>550.000000</td>\n",
       "    </tr>\n",
       "    <tr>\n",
       "      <th>mean</th>\n",
       "      <td>4.618364</td>\n",
       "      <td>11953.281818</td>\n",
       "      <td>13.100000</td>\n",
       "      <td>2014.000000</td>\n",
       "    </tr>\n",
       "    <tr>\n",
       "      <th>std</th>\n",
       "      <td>0.226980</td>\n",
       "      <td>11731.132017</td>\n",
       "      <td>10.842262</td>\n",
       "      <td>3.165156</td>\n",
       "    </tr>\n",
       "    <tr>\n",
       "      <th>min</th>\n",
       "      <td>3.300000</td>\n",
       "      <td>37.000000</td>\n",
       "      <td>0.000000</td>\n",
       "      <td>2009.000000</td>\n",
       "    </tr>\n",
       "    <tr>\n",
       "      <th>25%</th>\n",
       "      <td>4.500000</td>\n",
       "      <td>4058.000000</td>\n",
       "      <td>7.000000</td>\n",
       "      <td>2011.000000</td>\n",
       "    </tr>\n",
       "    <tr>\n",
       "      <th>50%</th>\n",
       "      <td>4.700000</td>\n",
       "      <td>8580.000000</td>\n",
       "      <td>11.000000</td>\n",
       "      <td>2014.000000</td>\n",
       "    </tr>\n",
       "    <tr>\n",
       "      <th>75%</th>\n",
       "      <td>4.800000</td>\n",
       "      <td>17253.250000</td>\n",
       "      <td>16.000000</td>\n",
       "      <td>2017.000000</td>\n",
       "    </tr>\n",
       "    <tr>\n",
       "      <th>max</th>\n",
       "      <td>4.900000</td>\n",
       "      <td>87841.000000</td>\n",
       "      <td>105.000000</td>\n",
       "      <td>2019.000000</td>\n",
       "    </tr>\n",
       "  </tbody>\n",
       "</table>\n",
       "</div>"
      ],
      "text/plain": [
       "       User Rating       Reviews       Price         Year\n",
       "count   550.000000    550.000000  550.000000   550.000000\n",
       "mean      4.618364  11953.281818   13.100000  2014.000000\n",
       "std       0.226980  11731.132017   10.842262     3.165156\n",
       "min       3.300000     37.000000    0.000000  2009.000000\n",
       "25%       4.500000   4058.000000    7.000000  2011.000000\n",
       "50%       4.700000   8580.000000   11.000000  2014.000000\n",
       "75%       4.800000  17253.250000   16.000000  2017.000000\n",
       "max       4.900000  87841.000000  105.000000  2019.000000"
      ]
     },
     "execution_count": 3,
     "metadata": {},
     "output_type": "execute_result"
    }
   ],
   "source": [
    "books_df.describe()"
   ]
  },
  {
   "cell_type": "code",
   "execution_count": 4,
   "id": "a5ee0897",
   "metadata": {
    "execution": {
     "iopub.execute_input": "2021-12-12T22:13:25.190921Z",
     "iopub.status.busy": "2021-12-12T22:13:25.189960Z",
     "iopub.status.idle": "2021-12-12T22:13:30.219834Z",
     "shell.execute_reply": "2021-12-12T22:13:30.220332Z",
     "shell.execute_reply.started": "2021-12-12T16:41:40.751548Z"
    },
    "papermill": {
     "duration": 5.071098,
     "end_time": "2021-12-12T22:13:30.220502",
     "exception": false,
     "start_time": "2021-12-12T22:13:25.149404",
     "status": "completed"
    },
    "tags": []
   },
   "outputs": [
    {
     "data": {
      "text/plain": [
       "<seaborn.axisgrid.PairGrid at 0x7f4b338f9d90>"
      ]
     },
     "execution_count": 4,
     "metadata": {},
     "output_type": "execute_result"
    },
    {
     "data": {
      "image/png": "[encoded data removed]",
      "text/plain": [
       "<Figure size 811.5x720 with 20 Axes>"
      ]
     },
     "metadata": {
      "needs_background": "light"
     },
     "output_type": "display_data"
    }
   ],
   "source": [
    "sns.pairplot(books_df,hue='Genre')"
   ]
  },
  {
   "cell_type": "code",
   "execution_count": 5,
   "id": "c4294149",
   "metadata": {
    "execution": {
     "iopub.execute_input": "2021-12-12T22:13:30.314154Z",
     "iopub.status.busy": "2021-12-12T22:13:30.313493Z",
     "iopub.status.idle": "2021-12-12T22:13:31.170202Z",
     "shell.execute_reply": "2021-12-12T22:13:31.169641Z",
     "shell.execute_reply.started": "2021-12-12T16:41:45.930419Z"
    },
    "papermill": {
     "duration": 0.904414,
     "end_time": "2021-12-12T22:13:31.170342",
     "exception": false,
     "start_time": "2021-12-12T22:13:30.265928",
     "status": "completed"
    },
    "tags": []
   },
   "outputs": [
    {
     "data": {
      "image/png": "[encoded data removed]",
      "text/plain": [
       "<Figure size 1080x288 with 4 Axes>"
      ]
     },
     "metadata": {
      "needs_background": "light"
     },
     "output_type": "display_data"
    }
   ],
   "source": [
    "numerical_feature = [feature for feature in books_df.columns if books_df[feature].dtypes != 'O']\n",
    "rows = 1\n",
    "columns = 4\n",
    "fig, axes = plt.subplots(rows,columns, figsize=(15,4))\n",
    "y = 0\n",
    "for column in numerical_feature:\n",
    "    sns.histplot(x=books_df[column], ax=axes[y])\n",
    "    y += 1"
   ]
  },
  {
   "cell_type": "code",
   "execution_count": 6,
   "id": "143412e5",
   "metadata": {
    "execution": {
     "iopub.execute_input": "2021-12-12T22:13:31.262281Z",
     "iopub.status.busy": "2021-12-12T22:13:31.261267Z",
     "iopub.status.idle": "2021-12-12T22:13:32.188474Z",
     "shell.execute_reply": "2021-12-12T22:13:32.187957Z",
     "shell.execute_reply.started": "2021-12-12T19:12:25.597352Z"
    },
    "papermill": {
     "duration": 0.974303,
     "end_time": "2021-12-12T22:13:32.188660",
     "exception": false,
     "start_time": "2021-12-12T22:13:31.214357",
     "status": "completed"
    },
    "tags": []
   },
   "outputs": [
    {
     "data": {
      "text/plain": [
       "<AxesSubplot:xlabel='Year', ylabel='Reviews'>"
      ]
     },
     "execution_count": 6,
     "metadata": {},
     "output_type": "execute_result"
    },
    {
     "data": {
      "image/png": "[encoded data removed]",
      "text/plain": [
       "<Figure size 432x288 with 1 Axes>"
      ]
     },
     "metadata": {
      "needs_background": "light"
     },
     "output_type": "display_data"
    }
   ],
   "source": [
    "sns.lineplot(x='Year',y=\"Reviews\",hue='Genre',data=books_df)"
   ]
  },
  {
   "cell_type": "markdown",
   "id": "c189e5f5",
   "metadata": {
    "papermill": {
     "duration": 0.046141,
     "end_time": "2021-12-12T22:13:32.281294",
     "exception": false,
     "start_time": "2021-12-12T22:13:32.235153",
     "status": "completed"
    },
    "tags": []
   },
   "source": [
    "###### Fictional books received more number of reviews than non-fictional books. The trend of increasing reviews on fictional books have been dropped significantly between 2015-2018"
   ]
  },
  {
   "cell_type": "code",
   "execution_count": 7,
   "id": "0b19469a",
   "metadata": {
    "execution": {
     "iopub.execute_input": "2021-12-12T22:13:32.378883Z",
     "iopub.status.busy": "2021-12-12T22:13:32.377868Z",
     "iopub.status.idle": "2021-12-12T22:13:32.390769Z",
     "shell.execute_reply": "2021-12-12T22:13:32.392127Z",
     "shell.execute_reply.started": "2021-12-12T20:56:21.258663Z"
    },
    "papermill": {
     "duration": 0.063888,
     "end_time": "2021-12-12T22:13:32.392364",
     "exception": false,
     "start_time": "2021-12-12T22:13:32.328476",
     "status": "completed"
    },
    "tags": []
   },
   "outputs": [
    {
     "name": "stdout",
     "output_type": "stream",
     "text": [
      "-0.05317204301075229\n"
     ]
    }
   ],
   "source": [
    "genre_type = books_df.groupby('Genre')[['User Rating']].mean().index\n",
    "rating_avg = books_df.groupby('Genre')[['User Rating']].mean().values.reshape(2)\n",
    "print(rating_avg[1]-rating_avg[0])"
   ]
  },
  {
   "cell_type": "code",
   "execution_count": 8,
   "id": "9ea31f9d",
   "metadata": {
    "execution": {
     "iopub.execute_input": "2021-12-12T22:13:32.494125Z",
     "iopub.status.busy": "2021-12-12T22:13:32.493100Z",
     "iopub.status.idle": "2021-12-12T22:13:32.675394Z",
     "shell.execute_reply": "2021-12-12T22:13:32.675879Z",
     "shell.execute_reply.started": "2021-12-12T19:35:49.319515Z"
    },
    "papermill": {
     "duration": 0.236944,
     "end_time": "2021-12-12T22:13:32.676072",
     "exception": false,
     "start_time": "2021-12-12T22:13:32.439128",
     "status": "completed"
    },
    "tags": []
   },
   "outputs": [
    {
     "data": {
      "image/png": "[encoded data removed]",
      "text/plain": [
       "<Figure size 720x720 with 1 Axes>"
      ]
     },
     "metadata": {
      "needs_background": "light"
     },
     "output_type": "display_data"
    }
   ],
   "source": [
    "plt.figure(figsize=(10,10))\n",
    "sns.barplot(x=genre_type,y=rating_avg)\n",
    "plt.xlabel('Genre',fontweight='bold',fontsize=13)\n",
    "plt.ylabel('User Rating',fontweight='bold',fontsize=13)\n",
    "plt.title(\"User rating difference between two genre\")\n",
    "plt.show()"
   ]
  },
  {
   "cell_type": "code",
   "execution_count": 9,
   "id": "04dc6e51",
   "metadata": {
    "execution": {
     "iopub.execute_input": "2021-12-12T22:13:32.773203Z",
     "iopub.status.busy": "2021-12-12T22:13:32.772254Z",
     "iopub.status.idle": "2021-12-12T22:13:33.081320Z",
     "shell.execute_reply": "2021-12-12T22:13:33.080540Z",
     "shell.execute_reply.started": "2021-12-12T18:40:36.555029Z"
    },
    "papermill": {
     "duration": 0.358964,
     "end_time": "2021-12-12T22:13:33.081472",
     "exception": false,
     "start_time": "2021-12-12T22:13:32.722508",
     "status": "completed"
    },
    "tags": []
   },
   "outputs": [
    {
     "data": {
      "image/png": "[encoded data removed]",
      "text/plain": [
       "<Figure size 1080x576 with 1 Axes>"
      ]
     },
     "metadata": {
      "needs_background": "light"
     },
     "output_type": "display_data"
    }
   ],
   "source": [
    "plt.figure(figsize=(15,8))\n",
    "books_df['Name'].value_counts().head(10).plot(kind='barh',color='grey')\n",
    "plt.xlabel('Book Name',fontweight=\"bold\",fontsize=13)\n",
    "plt.ylabel('Count',fontweight=\"bold\",fontsize=13)\n",
    "plt.title(\"Top10 - Number of times Best Selling books\",fontweight=\"bold\",fontsize=20)\n",
    "plt.show()"
   ]
  },
  {
   "cell_type": "markdown",
   "id": "897c4bb6",
   "metadata": {
    "papermill": {
     "duration": 0.048359,
     "end_time": "2021-12-12T22:13:33.178715",
     "exception": false,
     "start_time": "2021-12-12T22:13:33.130356",
     "status": "completed"
    },
    "tags": []
   },
   "source": [
    "##### \"Publication Manual of the American Psychological Association, 6th Edition\" has won most number of times best selling books."
   ]
  },
  {
   "cell_type": "markdown",
   "id": "60533f23",
   "metadata": {
    "papermill": {
     "duration": 0.048453,
     "end_time": "2021-12-12T22:13:33.275404",
     "exception": false,
     "start_time": "2021-12-12T22:13:33.226951",
     "status": "completed"
    },
    "tags": []
   },
   "source": [
    "#### Find out the missing values if any"
   ]
  },
  {
   "cell_type": "code",
   "execution_count": 10,
   "id": "947cece5",
   "metadata": {
    "execution": {
     "iopub.execute_input": "2021-12-12T22:13:33.381729Z",
     "iopub.status.busy": "2021-12-12T22:13:33.375671Z",
     "iopub.status.idle": "2021-12-12T22:13:33.386793Z",
     "shell.execute_reply": "2021-12-12T22:13:33.387492Z",
     "shell.execute_reply.started": "2021-12-12T16:41:46.833989Z"
    },
    "papermill": {
     "duration": 0.063236,
     "end_time": "2021-12-12T22:13:33.387730",
     "exception": false,
     "start_time": "2021-12-12T22:13:33.324494",
     "status": "completed"
    },
    "tags": []
   },
   "outputs": [
    {
     "name": "stdout",
     "output_type": "stream",
     "text": [
      "False\n",
      "False\n",
      "False\n",
      "False\n",
      "False\n",
      "False\n",
      "False\n"
     ]
    }
   ],
   "source": [
    "for col in books_df.columns:\n",
    "    print(books_df[col].isnull().any())"
   ]
  },
  {
   "cell_type": "code",
   "execution_count": 11,
   "id": "351a9145",
   "metadata": {
    "execution": {
     "iopub.execute_input": "2021-12-12T22:13:33.491118Z",
     "iopub.status.busy": "2021-12-12T22:13:33.490255Z",
     "iopub.status.idle": "2021-12-12T22:13:33.493429Z",
     "shell.execute_reply": "2021-12-12T22:13:33.493962Z",
     "shell.execute_reply.started": "2021-12-12T16:41:46.850184Z"
    },
    "papermill": {
     "duration": 0.056833,
     "end_time": "2021-12-12T22:13:33.494140",
     "exception": false,
     "start_time": "2021-12-12T22:13:33.437307",
     "status": "completed"
    },
    "tags": []
   },
   "outputs": [
    {
     "name": "stdout",
     "output_type": "stream",
     "text": [
      "['Name', 'Author', 'Genre']\n"
     ]
    }
   ],
   "source": [
    "categorical_features = [feature for feature in books_df.columns if feature not in numerical_feature]\n",
    "print(categorical_features)"
   ]
  },
  {
   "cell_type": "markdown",
   "id": "4a1841e1",
   "metadata": {
    "papermill": {
     "duration": 0.048435,
     "end_time": "2021-12-12T22:13:33.591359",
     "exception": false,
     "start_time": "2021-12-12T22:13:33.542924",
     "status": "completed"
    },
    "tags": []
   },
   "source": [
    "<p>Remove the spaces at the start and at last from the Name column</p>"
   ]
  },
  {
   "cell_type": "code",
   "execution_count": 12,
   "id": "7378b96f",
   "metadata": {
    "execution": {
     "iopub.execute_input": "2021-12-12T22:13:33.695827Z",
     "iopub.status.busy": "2021-12-12T22:13:33.695171Z",
     "iopub.status.idle": "2021-12-12T22:13:33.696881Z",
     "shell.execute_reply": "2021-12-12T22:13:33.697374Z",
     "shell.execute_reply.started": "2021-12-12T16:41:46.860054Z"
    },
    "papermill": {
     "duration": 0.05754,
     "end_time": "2021-12-12T22:13:33.697538",
     "exception": false,
     "start_time": "2021-12-12T22:13:33.639998",
     "status": "completed"
    },
    "tags": []
   },
   "outputs": [],
   "source": [
    "books_df['Name'] = books_df['Name'].str.title().str.strip()"
   ]
  },
  {
   "cell_type": "markdown",
   "id": "61061056",
   "metadata": {
    "papermill": {
     "duration": 0.048789,
     "end_time": "2021-12-12T22:13:33.795781",
     "exception": false,
     "start_time": "2021-12-12T22:13:33.746992",
     "status": "completed"
    },
    "tags": []
   },
   "source": [
    "<p>Let's remove the incorrect spelling</p>"
   ]
  },
  {
   "cell_type": "code",
   "execution_count": 13,
   "id": "3d026d2f",
   "metadata": {
    "execution": {
     "iopub.execute_input": "2021-12-12T22:13:33.900212Z",
     "iopub.status.busy": "2021-12-12T22:13:33.899261Z",
     "iopub.status.idle": "2021-12-12T22:13:33.902154Z",
     "shell.execute_reply": "2021-12-12T22:13:33.901672Z",
     "shell.execute_reply.started": "2021-12-12T16:41:46.876364Z"
    },
    "papermill": {
     "duration": 0.05758,
     "end_time": "2021-12-12T22:13:33.902306",
     "exception": false,
     "start_time": "2021-12-12T22:13:33.844726",
     "status": "completed"
    },
    "tags": []
   },
   "outputs": [],
   "source": [
    "authors = books_df['Author'].sort_values().unique()"
   ]
  },
  {
   "cell_type": "markdown",
   "id": "d6e5647b",
   "metadata": {
    "papermill": {
     "duration": 0.048678,
     "end_time": "2021-12-12T22:13:33.999666",
     "exception": false,
     "start_time": "2021-12-12T22:13:33.950988",
     "status": "completed"
    },
    "tags": []
   },
   "source": [
    "<p>Let's remove duplicate author name if any using fuzzywuzzy</p>"
   ]
  },
  {
   "cell_type": "code",
   "execution_count": 14,
   "id": "0971cf36",
   "metadata": {
    "execution": {
     "iopub.execute_input": "2021-12-12T22:13:34.101815Z",
     "iopub.status.busy": "2021-12-12T22:13:34.101182Z",
     "iopub.status.idle": "2021-12-12T22:13:34.123418Z",
     "shell.execute_reply": "2021-12-12T22:13:34.123980Z",
     "shell.execute_reply.started": "2021-12-12T16:41:46.885765Z"
    },
    "papermill": {
     "duration": 0.074827,
     "end_time": "2021-12-12T22:13:34.124155",
     "exception": false,
     "start_time": "2021-12-12T22:13:34.049328",
     "status": "completed"
    },
    "tags": []
   },
   "outputs": [
    {
     "name": "stdout",
     "output_type": "stream",
     "text": [
      "[('George R. R. Martin', 100), ('George R.R. Martin', 100), ('George Orwell', 53), ('Bill Martin Jr.', 52), ('Greg Mortenson', 52)]\n"
     ]
    }
   ],
   "source": [
    "import fuzzywuzzy\n",
    "from fuzzywuzzy import process\n",
    "matches_author_name = process.extract('George R. R. Martin',authors,limit=5, scorer=fuzzywuzzy.fuzz.token_sort_ratio)\n",
    "print(matches_author_name)"
   ]
  },
  {
   "cell_type": "code",
   "execution_count": 15,
   "id": "a333ccae",
   "metadata": {
    "execution": {
     "iopub.execute_input": "2021-12-12T22:13:34.231445Z",
     "iopub.status.busy": "2021-12-12T22:13:34.230783Z",
     "iopub.status.idle": "2021-12-12T22:13:34.234333Z",
     "shell.execute_reply": "2021-12-12T22:13:34.233779Z",
     "shell.execute_reply.started": "2021-12-12T16:41:46.916864Z"
    },
    "papermill": {
     "duration": 0.060313,
     "end_time": "2021-12-12T22:13:34.234472",
     "exception": false,
     "start_time": "2021-12-12T22:13:34.174159",
     "status": "completed"
    },
    "tags": []
   },
   "outputs": [],
   "source": [
    "books_df = books_df.replace('George R. R. Martin','George R.R. Martin')\n",
    "books_df = books_df.replace('J. K. Rowling', 'J.K. Rowling')"
   ]
  },
  {
   "cell_type": "code",
   "execution_count": 16,
   "id": "ef24d46a",
   "metadata": {
    "execution": {
     "iopub.execute_input": "2021-12-12T22:13:34.341346Z",
     "iopub.status.busy": "2021-12-12T22:13:34.340615Z",
     "iopub.status.idle": "2021-12-12T22:13:34.344022Z",
     "shell.execute_reply": "2021-12-12T22:13:34.344491Z",
     "shell.execute_reply.started": "2021-12-12T16:41:46.926766Z"
    },
    "papermill": {
     "duration": 0.059243,
     "end_time": "2021-12-12T22:13:34.344713",
     "exception": false,
     "start_time": "2021-12-12T22:13:34.285470",
     "status": "completed"
    },
    "tags": []
   },
   "outputs": [],
   "source": [
    "# Delete the year column\n",
    "del books_df['Year']"
   ]
  },
  {
   "cell_type": "code",
   "execution_count": 17,
   "id": "70b351a4",
   "metadata": {
    "execution": {
     "iopub.execute_input": "2021-12-12T22:13:34.461747Z",
     "iopub.status.busy": "2021-12-12T22:13:34.460975Z",
     "iopub.status.idle": "2021-12-12T22:13:34.476208Z",
     "shell.execute_reply": "2021-12-12T22:13:34.476938Z",
     "shell.execute_reply.started": "2021-12-12T16:41:46.936590Z"
    },
    "papermill": {
     "duration": 0.081317,
     "end_time": "2021-12-12T22:13:34.477202",
     "exception": false,
     "start_time": "2021-12-12T22:13:34.395885",
     "status": "completed"
    },
    "tags": []
   },
   "outputs": [
    {
     "name": "stdout",
     "output_type": "stream",
     "text": [
      "                                                  Name  \\\n",
      "0                        10-Day Green Smoothie Cleanse   \n",
      "1                                    11/22/63: A Novel   \n",
      "2              12 Rules For Life: An Antidote To Chaos   \n",
      "3                               1984 (Signet Classics)   \n",
      "4    5,000 Awesome Facts (About Everything!) (Natio...   \n",
      "..                                                 ...   \n",
      "538  Winter Of The World: Book Two Of The Century T...   \n",
      "539  Women Food And God: An Unexpected Path To Almo...   \n",
      "540                                             Wonder   \n",
      "545       Wrecking Ball (Diary Of A Wimpy Kid Book 14)   \n",
      "546  You Are A Badass: How To Stop Doubting Your Gr...   \n",
      "\n",
      "                       Author  User Rating  Reviews  Price        Genre  \n",
      "0                    JJ Smith          4.7    17350      8  Non Fiction  \n",
      "1                Stephen King          4.6     2052     22      Fiction  \n",
      "2          Jordan B. Peterson          4.7    18979     15  Non Fiction  \n",
      "3               George Orwell          4.7    21424      6      Fiction  \n",
      "4    National Geographic Kids          4.8     7665     12  Non Fiction  \n",
      "..                        ...          ...      ...    ...          ...  \n",
      "538               Ken Follett          4.5    10760     15      Fiction  \n",
      "539               Geneen Roth          4.2     1302     11  Non Fiction  \n",
      "540             R. J. Palacio          4.8    21625      9      Fiction  \n",
      "545               Jeff Kinney          4.9     9413      8      Fiction  \n",
      "546               Jen Sincero          4.7    14331      8  Non Fiction  \n",
      "\n",
      "[361 rows x 6 columns]\n"
     ]
    }
   ],
   "source": [
    "books_df1 = books_df.drop_duplicates()\n",
    "print(books_df1)"
   ]
  },
  {
   "cell_type": "code",
   "execution_count": 18,
   "id": "d8ce52bf",
   "metadata": {
    "execution": {
     "iopub.execute_input": "2021-12-12T22:13:34.586784Z",
     "iopub.status.busy": "2021-12-12T22:13:34.586121Z",
     "iopub.status.idle": "2021-12-12T22:13:34.599481Z",
     "shell.execute_reply": "2021-12-12T22:13:34.600013Z",
     "shell.execute_reply.started": "2021-12-12T16:41:46.959326Z"
    },
    "papermill": {
     "duration": 0.067669,
     "end_time": "2021-12-12T22:13:34.600189",
     "exception": false,
     "start_time": "2021-12-12T22:13:34.532520",
     "status": "completed"
    },
    "tags": []
   },
   "outputs": [
    {
     "name": "stdout",
     "output_type": "stream",
     "text": [
      "<class 'pandas.core.frame.DataFrame'>\n",
      "Int64Index: 361 entries, 0 to 546\n",
      "Data columns (total 6 columns):\n",
      " #   Column       Non-Null Count  Dtype  \n",
      "---  ------       --------------  -----  \n",
      " 0   Name         361 non-null    object \n",
      " 1   Author       361 non-null    object \n",
      " 2   User Rating  361 non-null    float64\n",
      " 3   Reviews      361 non-null    int64  \n",
      " 4   Price        361 non-null    int64  \n",
      " 5   Genre        361 non-null    object \n",
      "dtypes: float64(1), int64(2), object(3)\n",
      "memory usage: 19.7+ KB\n"
     ]
    }
   ],
   "source": [
    "books_df1.info()"
   ]
  },
  {
   "cell_type": "code",
   "execution_count": 19,
   "id": "265e7bc7",
   "metadata": {
    "execution": {
     "iopub.execute_input": "2021-12-12T22:13:34.705489Z",
     "iopub.status.busy": "2021-12-12T22:13:34.704497Z",
     "iopub.status.idle": "2021-12-12T22:13:34.706977Z",
     "shell.execute_reply": "2021-12-12T22:13:34.707448Z",
     "shell.execute_reply.started": "2021-12-12T16:41:46.976695Z"
    },
    "papermill": {
     "duration": 0.05714,
     "end_time": "2021-12-12T22:13:34.707624",
     "exception": false,
     "start_time": "2021-12-12T22:13:34.650484",
     "status": "completed"
    },
    "tags": []
   },
   "outputs": [],
   "source": [
    " import collections"
   ]
  },
  {
   "cell_type": "code",
   "execution_count": 20,
   "id": "a5267300",
   "metadata": {
    "execution": {
     "iopub.execute_input": "2021-12-12T22:13:34.815154Z",
     "iopub.status.busy": "2021-12-12T22:13:34.814342Z",
     "iopub.status.idle": "2021-12-12T22:13:34.817432Z",
     "shell.execute_reply": "2021-12-12T22:13:34.817949Z",
     "shell.execute_reply.started": "2021-12-12T16:41:46.984063Z"
    },
    "papermill": {
     "duration": 0.060239,
     "end_time": "2021-12-12T22:13:34.818116",
     "exception": false,
     "start_time": "2021-12-12T22:13:34.757877",
     "status": "completed"
    },
    "tags": []
   },
   "outputs": [
    {
     "name": "stdout",
     "output_type": "stream",
     "text": [
      "[('The Help', 3), ('Gone Girl', 2), (\"Quiet: The Power Of Introverts In A World That Can'T Stop Talking\", 2), ('The 5 Love Languages: The Secret To Love That Lasts', 2), ('The 7 Habits Of Highly Effective People: Powerful Lessons In Personal Change', 2), ('The Fault In Our Stars', 2), ('The Girl On The Train', 2), ('The Immortal Life Of Henrietta Lacks', 2), ('To Kill A Mockingbird', 2), ('Unbroken: A World War Ii Story Of Survival, Resilience, And Redemption', 2), ('10-Day Green Smoothie Cleanse', 1)]\n"
     ]
    }
   ],
   "source": [
    "count_books = collections.Counter(books_df1['Name'].tolist())\n",
    "print(count_books.most_common(11))"
   ]
  },
  {
   "cell_type": "code",
   "execution_count": 21,
   "id": "22327ac9",
   "metadata": {
    "execution": {
     "iopub.execute_input": "2021-12-12T22:13:34.923909Z",
     "iopub.status.busy": "2021-12-12T22:13:34.923247Z",
     "iopub.status.idle": "2021-12-12T22:13:34.940541Z",
     "shell.execute_reply": "2021-12-12T22:13:34.941185Z",
     "shell.execute_reply.started": "2021-12-12T16:41:46.997149Z"
    },
    "papermill": {
     "duration": 0.072245,
     "end_time": "2021-12-12T22:13:34.941355",
     "exception": false,
     "start_time": "2021-12-12T22:13:34.869110",
     "status": "completed"
    },
    "tags": []
   },
   "outputs": [
    {
     "data": {
      "text/html": [
       "<div>\n",
       "<style scoped>\n",
       "    .dataframe tbody tr th:only-of-type {\n",
       "        vertical-align: middle;\n",
       "    }\n",
       "\n",
       "    .dataframe tbody tr th {\n",
       "        vertical-align: top;\n",
       "    }\n",
       "\n",
       "    .dataframe thead th {\n",
       "        text-align: right;\n",
       "    }\n",
       "</style>\n",
       "<table border=\"1\" class=\"dataframe\">\n",
       "  <thead>\n",
       "    <tr style=\"text-align: right;\">\n",
       "      <th></th>\n",
       "      <th>Name</th>\n",
       "      <th>Author</th>\n",
       "      <th>User Rating</th>\n",
       "      <th>Reviews</th>\n",
       "      <th>Price</th>\n",
       "      <th>Genre</th>\n",
       "    </tr>\n",
       "  </thead>\n",
       "  <tbody>\n",
       "    <tr>\n",
       "      <th>0</th>\n",
       "      <td>10-Day Green Smoothie Cleanse</td>\n",
       "      <td>JJ Smith</td>\n",
       "      <td>4.7</td>\n",
       "      <td>17350</td>\n",
       "      <td>8</td>\n",
       "      <td>Non Fiction</td>\n",
       "    </tr>\n",
       "    <tr>\n",
       "      <th>1</th>\n",
       "      <td>11/22/63: A Novel</td>\n",
       "      <td>Stephen King</td>\n",
       "      <td>4.6</td>\n",
       "      <td>2052</td>\n",
       "      <td>22</td>\n",
       "      <td>Fiction</td>\n",
       "    </tr>\n",
       "    <tr>\n",
       "      <th>2</th>\n",
       "      <td>12 Rules For Life: An Antidote To Chaos</td>\n",
       "      <td>Jordan B. Peterson</td>\n",
       "      <td>4.7</td>\n",
       "      <td>18979</td>\n",
       "      <td>15</td>\n",
       "      <td>Non Fiction</td>\n",
       "    </tr>\n",
       "    <tr>\n",
       "      <th>3</th>\n",
       "      <td>1984 (Signet Classics)</td>\n",
       "      <td>George Orwell</td>\n",
       "      <td>4.7</td>\n",
       "      <td>21424</td>\n",
       "      <td>6</td>\n",
       "      <td>Fiction</td>\n",
       "    </tr>\n",
       "    <tr>\n",
       "      <th>4</th>\n",
       "      <td>5,000 Awesome Facts (About Everything!) (Natio...</td>\n",
       "      <td>National Geographic Kids</td>\n",
       "      <td>4.8</td>\n",
       "      <td>7665</td>\n",
       "      <td>12</td>\n",
       "      <td>Non Fiction</td>\n",
       "    </tr>\n",
       "    <tr>\n",
       "      <th>...</th>\n",
       "      <td>...</td>\n",
       "      <td>...</td>\n",
       "      <td>...</td>\n",
       "      <td>...</td>\n",
       "      <td>...</td>\n",
       "      <td>...</td>\n",
       "    </tr>\n",
       "    <tr>\n",
       "      <th>538</th>\n",
       "      <td>Winter Of The World: Book Two Of The Century T...</td>\n",
       "      <td>Ken Follett</td>\n",
       "      <td>4.5</td>\n",
       "      <td>10760</td>\n",
       "      <td>15</td>\n",
       "      <td>Fiction</td>\n",
       "    </tr>\n",
       "    <tr>\n",
       "      <th>539</th>\n",
       "      <td>Women Food And God: An Unexpected Path To Almo...</td>\n",
       "      <td>Geneen Roth</td>\n",
       "      <td>4.2</td>\n",
       "      <td>1302</td>\n",
       "      <td>11</td>\n",
       "      <td>Non Fiction</td>\n",
       "    </tr>\n",
       "    <tr>\n",
       "      <th>540</th>\n",
       "      <td>Wonder</td>\n",
       "      <td>R. J. Palacio</td>\n",
       "      <td>4.8</td>\n",
       "      <td>21625</td>\n",
       "      <td>9</td>\n",
       "      <td>Fiction</td>\n",
       "    </tr>\n",
       "    <tr>\n",
       "      <th>545</th>\n",
       "      <td>Wrecking Ball (Diary Of A Wimpy Kid Book 14)</td>\n",
       "      <td>Jeff Kinney</td>\n",
       "      <td>4.9</td>\n",
       "      <td>9413</td>\n",
       "      <td>8</td>\n",
       "      <td>Fiction</td>\n",
       "    </tr>\n",
       "    <tr>\n",
       "      <th>546</th>\n",
       "      <td>You Are A Badass: How To Stop Doubting Your Gr...</td>\n",
       "      <td>Jen Sincero</td>\n",
       "      <td>4.7</td>\n",
       "      <td>14331</td>\n",
       "      <td>8</td>\n",
       "      <td>Non Fiction</td>\n",
       "    </tr>\n",
       "  </tbody>\n",
       "</table>\n",
       "<p>350 rows × 6 columns</p>\n",
       "</div>"
      ],
      "text/plain": [
       "                                                  Name  \\\n",
       "0                        10-Day Green Smoothie Cleanse   \n",
       "1                                    11/22/63: A Novel   \n",
       "2              12 Rules For Life: An Antidote To Chaos   \n",
       "3                               1984 (Signet Classics)   \n",
       "4    5,000 Awesome Facts (About Everything!) (Natio...   \n",
       "..                                                 ...   \n",
       "538  Winter Of The World: Book Two Of The Century T...   \n",
       "539  Women Food And God: An Unexpected Path To Almo...   \n",
       "540                                             Wonder   \n",
       "545       Wrecking Ball (Diary Of A Wimpy Kid Book 14)   \n",
       "546  You Are A Badass: How To Stop Doubting Your Gr...   \n",
       "\n",
       "                       Author  User Rating  Reviews  Price        Genre  \n",
       "0                    JJ Smith          4.7    17350      8  Non Fiction  \n",
       "1                Stephen King          4.6     2052     22      Fiction  \n",
       "2          Jordan B. Peterson          4.7    18979     15  Non Fiction  \n",
       "3               George Orwell          4.7    21424      6      Fiction  \n",
       "4    National Geographic Kids          4.8     7665     12  Non Fiction  \n",
       "..                        ...          ...      ...    ...          ...  \n",
       "538               Ken Follett          4.5    10760     15      Fiction  \n",
       "539               Geneen Roth          4.2     1302     11  Non Fiction  \n",
       "540             R. J. Palacio          4.8    21625      9      Fiction  \n",
       "545               Jeff Kinney          4.9     9413      8      Fiction  \n",
       "546               Jen Sincero          4.7    14331      8  Non Fiction  \n",
       "\n",
       "[350 rows x 6 columns]"
      ]
     },
     "execution_count": 21,
     "metadata": {},
     "output_type": "execute_result"
    }
   ],
   "source": [
    "books_df1 = books_df1.drop_duplicates(subset='Name',keep='last')\n",
    "books_df1"
   ]
  },
  {
   "cell_type": "markdown",
   "id": "fffe739f",
   "metadata": {
    "papermill": {
     "duration": 0.054024,
     "end_time": "2021-12-12T22:13:35.048427",
     "exception": false,
     "start_time": "2021-12-12T22:13:34.994403",
     "status": "completed"
    },
    "tags": []
   },
   "source": [
    "<p>The author with hieghest rating</p>"
   ]
  },
  {
   "cell_type": "code",
   "execution_count": 22,
   "id": "60bf21ec",
   "metadata": {
    "execution": {
     "iopub.execute_input": "2021-12-12T22:13:35.154827Z",
     "iopub.status.busy": "2021-12-12T22:13:35.154113Z",
     "iopub.status.idle": "2021-12-12T22:13:35.166154Z",
     "shell.execute_reply": "2021-12-12T22:13:35.167147Z",
     "shell.execute_reply.started": "2021-12-12T16:41:47.023556Z"
    },
    "papermill": {
     "duration": 0.06735,
     "end_time": "2021-12-12T22:13:35.167388",
     "exception": false,
     "start_time": "2021-12-12T22:13:35.100038",
     "status": "completed"
    },
    "tags": []
   },
   "outputs": [
    {
     "name": "stdout",
     "output_type": "stream",
     "text": [
      "                   Author  User Rating\n",
      "0          Nathan W. Pyle          4.9\n",
      "1         Bill Martin Jr.          4.9\n",
      "2              Jill Twiss          4.9\n",
      "3           Rush Limbaugh          4.9\n",
      "4              Pete Souza          4.9\n",
      "5             Sarah Young          4.9\n",
      "6      Lin-Manuel Miranda          4.9\n",
      "7          Patrick Thorpe          4.9\n",
      "8              Dav Pilkey          4.9\n",
      "9          Alice Schertle          4.9\n",
      "10   Sherri Duskey Rinker          4.9\n",
      "11            Chip Gaines          4.9\n",
      "12  Emily Winfield Martin          4.9\n"
     ]
    }
   ],
   "source": [
    "top_13_authors = books_df1.groupby('Author')[['User Rating']].mean().sort_values('User Rating',ascending=False).head(13).reset_index()\n",
    "print(top_13_authors)"
   ]
  },
  {
   "cell_type": "code",
   "execution_count": 23,
   "id": "1f358e38",
   "metadata": {
    "execution": {
     "iopub.execute_input": "2021-12-12T22:13:35.283749Z",
     "iopub.status.busy": "2021-12-12T22:13:35.279982Z",
     "iopub.status.idle": "2021-12-12T22:13:35.287724Z",
     "shell.execute_reply": "2021-12-12T22:13:35.288262Z",
     "shell.execute_reply.started": "2021-12-12T17:15:38.101797Z"
    },
    "papermill": {
     "duration": 0.068068,
     "end_time": "2021-12-12T22:13:35.288461",
     "exception": false,
     "start_time": "2021-12-12T22:13:35.220393",
     "status": "completed"
    },
    "tags": []
   },
   "outputs": [
    {
     "data": {
      "text/plain": [
       "array([[4.9],\n",
       "       [4.9],\n",
       "       [4.9],\n",
       "       [4.9],\n",
       "       [4.9],\n",
       "       [4.9],\n",
       "       [4.9],\n",
       "       [4.9],\n",
       "       [4.9],\n",
       "       [4.9]])"
      ]
     },
     "execution_count": 23,
     "metadata": {},
     "output_type": "execute_result"
    }
   ],
   "source": [
    "books_df1.groupby('Author')[['User Rating']].mean().sort_values('User Rating',ascending=False).head(10).values"
   ]
  },
  {
   "cell_type": "markdown",
   "id": "00259cb4",
   "metadata": {
    "papermill": {
     "duration": 0.05266,
     "end_time": "2021-12-12T22:13:35.395361",
     "exception": false,
     "start_time": "2021-12-12T22:13:35.342701",
     "status": "completed"
    },
    "tags": []
   },
   "source": [
    "<p>The most number of best selling books written by the authors</p>"
   ]
  },
  {
   "cell_type": "code",
   "execution_count": 24,
   "id": "f3b08218",
   "metadata": {
    "execution": {
     "iopub.execute_input": "2021-12-12T22:13:35.505883Z",
     "iopub.status.busy": "2021-12-12T22:13:35.505209Z",
     "iopub.status.idle": "2021-12-12T22:13:35.515704Z",
     "shell.execute_reply": "2021-12-12T22:13:35.515199Z",
     "shell.execute_reply.started": "2021-12-12T16:41:47.045348Z"
    },
    "papermill": {
     "duration": 0.068381,
     "end_time": "2021-12-12T22:13:35.515855",
     "exception": false,
     "start_time": "2021-12-12T22:13:35.447474",
     "status": "completed"
    },
    "tags": []
   },
   "outputs": [
    {
     "name": "stdout",
     "output_type": "stream",
     "text": [
      "             Author  Name\n",
      "0       Jeff Kinney    12\n",
      "1      Rick Riordan    10\n",
      "2      J.K. Rowling     8\n",
      "3   Stephenie Meyer     7\n",
      "4        Dav Pilkey     6\n",
      "5     Bill O'Reilly     6\n",
      "6      John Grisham     5\n",
      "7         E L James     5\n",
      "8   Suzanne Collins     5\n",
      "9  Charlaine Harris     4\n"
     ]
    }
   ],
   "source": [
    "top10_authors = books_df1.groupby('Author')[['Name']].count().sort_values('Name',ascending=False).head(10).reset_index()\n",
    "print(top10_authors)"
   ]
  },
  {
   "cell_type": "markdown",
   "id": "3b322c6c",
   "metadata": {
    "papermill": {
     "duration": 0.055841,
     "end_time": "2021-12-12T22:13:35.623598",
     "exception": false,
     "start_time": "2021-12-12T22:13:35.567757",
     "status": "completed"
    },
    "tags": []
   },
   "source": [
    " We take books with the number of reviews"
   ]
  },
  {
   "cell_type": "code",
   "execution_count": 25,
   "id": "7056cea5",
   "metadata": {
    "execution": {
     "iopub.execute_input": "2021-12-12T22:13:35.736418Z",
     "iopub.status.busy": "2021-12-12T22:13:35.735408Z",
     "iopub.status.idle": "2021-12-12T22:13:35.743288Z",
     "shell.execute_reply": "2021-12-12T22:13:35.743967Z",
     "shell.execute_reply.started": "2021-12-12T18:42:59.820711Z"
    },
    "papermill": {
     "duration": 0.068196,
     "end_time": "2021-12-12T22:13:35.744148",
     "exception": false,
     "start_time": "2021-12-12T22:13:35.675952",
     "status": "completed"
    },
    "tags": []
   },
   "outputs": [
    {
     "name": "stdout",
     "output_type": "stream",
     "text": [
      "                                                Name  Reviews\n",
      "0                             The Fault In Our Stars   201928\n",
      "1                          Oh, The Places You'Ll Go!   174672\n",
      "2                                          Gone Girl   171813\n",
      "3                              The Girl On The Train   158892\n",
      "4  Unbroken: A World War Ii Story Of Survival, Re...   148365\n",
      "5  The 5 Love Languages: The Secret To Love That ...   145155\n",
      "6  The Four Agreements: A Practical Guide To Pers...   139848\n",
      "7                        The Very Hungry Caterpillar   136822\n",
      "8                              To Kill A Mockingbird   131170\n",
      "9              How To Win Friends & Influence People   125005\n"
     ]
    }
   ],
   "source": [
    "top_reviewed_books = books_df.groupby('Name')[['Reviews']].sum().sort_values('Reviews',ascending=False).head(10).reset_index()\n",
    "print(top_reviewed_books)"
   ]
  },
  {
   "cell_type": "code",
   "execution_count": 26,
   "id": "85928937",
   "metadata": {
    "execution": {
     "iopub.execute_input": "2021-12-12T22:13:35.864689Z",
     "iopub.status.busy": "2021-12-12T22:13:35.861346Z",
     "iopub.status.idle": "2021-12-12T22:13:36.090372Z",
     "shell.execute_reply": "2021-12-12T22:13:36.089861Z",
     "shell.execute_reply.started": "2021-12-12T18:44:18.633670Z"
    },
    "papermill": {
     "duration": 0.29227,
     "end_time": "2021-12-12T22:13:36.090527",
     "exception": false,
     "start_time": "2021-12-12T22:13:35.798257",
     "status": "completed"
    },
    "tags": []
   },
   "outputs": [
    {
     "data": {
      "image/png": "[encoded data removed]",
      "text/plain": [
       "<Figure size 720x432 with 1 Axes>"
      ]
     },
     "metadata": {
      "needs_background": "light"
     },
     "output_type": "display_data"
    }
   ],
   "source": [
    "book_names = books_df1.groupby('Name')[['Reviews']].sum().sort_values('Reviews',ascending=False).head(5).index\n",
    "no_of_reviews = books_df1.groupby('Name')[['Reviews']].sum().sort_values('Reviews',ascending=False).head(5).values.reshape(5)\n",
    "plt.figure(figsize=(10,6))\n",
    "sns.barplot(x=book_names,y=no_of_reviews)\n",
    "plt.xlabel('Book Name',fontweight=\"bold\",fontsize=10)\n",
    "plt.ylabel('Review_Count',fontweight=\"bold\",fontsize=10)\n",
    "plt.title('Top5 books with most number of reviews',fontweight=\"bold\")\n",
    "plt.xticks(rotation=75)\n",
    "plt.show()"
   ]
  },
  {
   "cell_type": "code",
   "execution_count": 27,
   "id": "277791a2",
   "metadata": {
    "execution": {
     "iopub.execute_input": "2021-12-12T22:13:36.213975Z",
     "iopub.status.busy": "2021-12-12T22:13:36.212770Z",
     "iopub.status.idle": "2021-12-12T22:13:36.216767Z",
     "shell.execute_reply": "2021-12-12T22:13:36.217304Z",
     "shell.execute_reply.started": "2021-12-12T18:06:08.665910Z"
    },
    "papermill": {
     "duration": 0.071714,
     "end_time": "2021-12-12T22:13:36.217502",
     "exception": false,
     "start_time": "2021-12-12T22:13:36.145788",
     "status": "completed"
    },
    "tags": []
   },
   "outputs": [
    {
     "data": {
      "text/html": [
       "<div>\n",
       "<style scoped>\n",
       "    .dataframe tbody tr th:only-of-type {\n",
       "        vertical-align: middle;\n",
       "    }\n",
       "\n",
       "    .dataframe tbody tr th {\n",
       "        vertical-align: top;\n",
       "    }\n",
       "\n",
       "    .dataframe thead th {\n",
       "        text-align: right;\n",
       "    }\n",
       "</style>\n",
       "<table border=\"1\" class=\"dataframe\">\n",
       "  <thead>\n",
       "    <tr style=\"text-align: right;\">\n",
       "      <th></th>\n",
       "      <th>Name</th>\n",
       "      <th>Author</th>\n",
       "      <th>User Rating</th>\n",
       "      <th>Reviews</th>\n",
       "      <th>Price</th>\n",
       "      <th>Genre</th>\n",
       "    </tr>\n",
       "  </thead>\n",
       "  <tbody>\n",
       "    <tr>\n",
       "      <th>0</th>\n",
       "      <td>10-Day Green Smoothie Cleanse</td>\n",
       "      <td>JJ Smith</td>\n",
       "      <td>4.7</td>\n",
       "      <td>17350</td>\n",
       "      <td>8</td>\n",
       "      <td>Non Fiction</td>\n",
       "    </tr>\n",
       "    <tr>\n",
       "      <th>1</th>\n",
       "      <td>11/22/63: A Novel</td>\n",
       "      <td>Stephen King</td>\n",
       "      <td>4.6</td>\n",
       "      <td>2052</td>\n",
       "      <td>22</td>\n",
       "      <td>Fiction</td>\n",
       "    </tr>\n",
       "    <tr>\n",
       "      <th>2</th>\n",
       "      <td>12 Rules For Life: An Antidote To Chaos</td>\n",
       "      <td>Jordan B. Peterson</td>\n",
       "      <td>4.7</td>\n",
       "      <td>18979</td>\n",
       "      <td>15</td>\n",
       "      <td>Non Fiction</td>\n",
       "    </tr>\n",
       "    <tr>\n",
       "      <th>3</th>\n",
       "      <td>1984 (Signet Classics)</td>\n",
       "      <td>George Orwell</td>\n",
       "      <td>4.7</td>\n",
       "      <td>21424</td>\n",
       "      <td>6</td>\n",
       "      <td>Fiction</td>\n",
       "    </tr>\n",
       "    <tr>\n",
       "      <th>4</th>\n",
       "      <td>5,000 Awesome Facts (About Everything!) (Natio...</td>\n",
       "      <td>National Geographic Kids</td>\n",
       "      <td>4.8</td>\n",
       "      <td>7665</td>\n",
       "      <td>12</td>\n",
       "      <td>Non Fiction</td>\n",
       "    </tr>\n",
       "    <tr>\n",
       "      <th>5</th>\n",
       "      <td>A Dance With Dragons (A Song Of Ice And Fire)</td>\n",
       "      <td>George R.R. Martin</td>\n",
       "      <td>4.4</td>\n",
       "      <td>12643</td>\n",
       "      <td>11</td>\n",
       "      <td>Fiction</td>\n",
       "    </tr>\n",
       "    <tr>\n",
       "      <th>6</th>\n",
       "      <td>A Game Of Thrones / A Clash Of Kings / A Storm...</td>\n",
       "      <td>George R.R. Martin</td>\n",
       "      <td>4.7</td>\n",
       "      <td>19735</td>\n",
       "      <td>30</td>\n",
       "      <td>Fiction</td>\n",
       "    </tr>\n",
       "    <tr>\n",
       "      <th>7</th>\n",
       "      <td>A Gentleman In Moscow: A Novel</td>\n",
       "      <td>Amor Towles</td>\n",
       "      <td>4.7</td>\n",
       "      <td>19699</td>\n",
       "      <td>15</td>\n",
       "      <td>Fiction</td>\n",
       "    </tr>\n",
       "    <tr>\n",
       "      <th>8</th>\n",
       "      <td>A Higher Loyalty: Truth, Lies, And Leadership</td>\n",
       "      <td>James Comey</td>\n",
       "      <td>4.7</td>\n",
       "      <td>5983</td>\n",
       "      <td>3</td>\n",
       "      <td>Non Fiction</td>\n",
       "    </tr>\n",
       "    <tr>\n",
       "      <th>9</th>\n",
       "      <td>A Man Called Ove: A Novel</td>\n",
       "      <td>Fredrik Backman</td>\n",
       "      <td>4.6</td>\n",
       "      <td>23848</td>\n",
       "      <td>8</td>\n",
       "      <td>Fiction</td>\n",
       "    </tr>\n",
       "  </tbody>\n",
       "</table>\n",
       "</div>"
      ],
      "text/plain": [
       "                                                Name  \\\n",
       "0                      10-Day Green Smoothie Cleanse   \n",
       "1                                  11/22/63: A Novel   \n",
       "2            12 Rules For Life: An Antidote To Chaos   \n",
       "3                             1984 (Signet Classics)   \n",
       "4  5,000 Awesome Facts (About Everything!) (Natio...   \n",
       "5      A Dance With Dragons (A Song Of Ice And Fire)   \n",
       "6  A Game Of Thrones / A Clash Of Kings / A Storm...   \n",
       "7                     A Gentleman In Moscow: A Novel   \n",
       "8      A Higher Loyalty: Truth, Lies, And Leadership   \n",
       "9                          A Man Called Ove: A Novel   \n",
       "\n",
       "                     Author  User Rating  Reviews  Price        Genre  \n",
       "0                  JJ Smith          4.7    17350      8  Non Fiction  \n",
       "1              Stephen King          4.6     2052     22      Fiction  \n",
       "2        Jordan B. Peterson          4.7    18979     15  Non Fiction  \n",
       "3             George Orwell          4.7    21424      6      Fiction  \n",
       "4  National Geographic Kids          4.8     7665     12  Non Fiction  \n",
       "5        George R.R. Martin          4.4    12643     11      Fiction  \n",
       "6        George R.R. Martin          4.7    19735     30      Fiction  \n",
       "7               Amor Towles          4.7    19699     15      Fiction  \n",
       "8               James Comey          4.7     5983      3  Non Fiction  \n",
       "9           Fredrik Backman          4.6    23848      8      Fiction  "
      ]
     },
     "execution_count": 27,
     "metadata": {},
     "output_type": "execute_result"
    }
   ],
   "source": [
    "books_df.head(10)"
   ]
  },
  {
   "cell_type": "markdown",
   "id": "ec4a3195",
   "metadata": {
    "papermill": {
     "duration": 0.054842,
     "end_time": "2021-12-12T22:13:36.327115",
     "exception": false,
     "start_time": "2021-12-12T22:13:36.272273",
     "status": "completed"
    },
    "tags": []
   },
   "source": [
    "We take the number of books by genre\n"
   ]
  },
  {
   "cell_type": "code",
   "execution_count": 28,
   "id": "1e983275",
   "metadata": {
    "execution": {
     "iopub.execute_input": "2021-12-12T22:13:36.444782Z",
     "iopub.status.busy": "2021-12-12T22:13:36.443899Z",
     "iopub.status.idle": "2021-12-12T22:13:36.446223Z",
     "shell.execute_reply": "2021-12-12T22:13:36.446692Z",
     "shell.execute_reply.started": "2021-12-12T16:41:47.075914Z"
    },
    "papermill": {
     "duration": 0.065311,
     "end_time": "2021-12-12T22:13:36.446874",
     "exception": false,
     "start_time": "2021-12-12T22:13:36.381563",
     "status": "completed"
    },
    "tags": []
   },
   "outputs": [],
   "source": [
    "books_byGenre = books_df1.groupby('Genre')[['Name']].count().sort_values('Name',ascending=False).head(10).reset_index()"
   ]
  },
  {
   "cell_type": "code",
   "execution_count": 29,
   "id": "7c4b2133",
   "metadata": {
    "execution": {
     "iopub.execute_input": "2021-12-12T22:13:36.558562Z",
     "iopub.status.busy": "2021-12-12T22:13:36.557894Z",
     "iopub.status.idle": "2021-12-12T22:13:36.907315Z",
     "shell.execute_reply": "2021-12-12T22:13:36.906791Z",
     "shell.execute_reply.started": "2021-12-12T16:41:47.090030Z"
    },
    "papermill": {
     "duration": 0.406155,
     "end_time": "2021-12-12T22:13:36.907461",
     "exception": false,
     "start_time": "2021-12-12T22:13:36.501306",
     "status": "completed"
    },
    "tags": []
   },
   "outputs": [
    {
     "data": {
      "text/html": [
       "        <script type=\"text/javascript\">\n",
       "        window.PlotlyConfig = {MathJaxConfig: 'local'};\n",
       "        if (window.MathJax) {MathJax.Hub.Config({SVG: {font: \"STIX-Web\"}});}\n",
       "        if (typeof require !== 'undefined') {\n",
       "        require.undef(\"plotly\");\n",
       "        requirejs.config({\n",
       "            paths: {\n",
       "                'plotly': ['https://cdn.plot.ly/plotly-2.6.3.min']\n",
       "            }\n",
       "        });\n",
       "        require(['plotly'], function(Plotly) {\n",
       "            window._Plotly = Plotly;\n",
       "        });\n",
       "        }\n",
       "        </script>\n",
       "        "
      ]
     },
     "metadata": {},
     "output_type": "display_data"
    },
    {
     "data": {
      "text/html": [
       "<div>                            <div id=\"efe908ec-4aa0-41b6-9f69-8274cdd1e4e4\" class=\"plotly-graph-div\" style=\"height:525px; width:100%;\"></div>            <script type=\"text/javascript\">                require([\"plotly\"], function(Plotly) {                    window.PLOTLYENV=window.PLOTLYENV || {};                                    if (document.getElementById(\"efe908ec-4aa0-41b6-9f69-8274cdd1e4e4\")) {                    Plotly.newPlot(                        \"efe908ec-4aa0-41b6-9f69-8274cdd1e4e4\",                        [{\"cells\":{\"align\":\"left\",\"fill\":{\"color\":\"lightcyan\"},\"line\":{\"color\":\"darkslategray\"},\"values\":[[\"Nathan W. Pyle\",\"Bill Martin Jr.\",\"Jill Twiss\",\"Rush Limbaugh\",\"Pete Souza\",\"Sarah Young\",\"Lin-Manuel Miranda\",\"Patrick Thorpe\",\"Dav Pilkey\",\"Alice Schertle\",\"Sherri Duskey Rinker\",\"Chip Gaines\",\"Emily Winfield Martin\"],[4.9,4.9,4.9,4.9,4.9,4.9,4.9,4.9,4.9,4.9,4.9,4.9,4.9]]},\"header\":{\"align\":\"left\",\"fill\":{\"color\":\"lightskyblue\"},\"line\":{\"color\":\"darkslategray\"},\"values\":[\"Author\",\"User Rating\"]},\"type\":\"table\"}],                        {\"template\":{\"data\":{\"bar\":[{\"error_x\":{\"color\":\"#2a3f5f\"},\"error_y\":{\"color\":\"#2a3f5f\"},\"marker\":{\"line\":{\"color\":\"#E5ECF6\",\"width\":0.5},\"pattern\":{\"fillmode\":\"overlay\",\"size\":10,\"solidity\":0.2}},\"type\":\"bar\"}],\"barpolar\":[{\"marker\":{\"line\":{\"color\":\"#E5ECF6\",\"width\":0.5},\"pattern\":{\"fillmode\":\"overlay\",\"size\":10,\"solidity\":0.2}},\"type\":\"barpolar\"}],\"carpet\":[{\"aaxis\":{\"endlinecolor\":\"#2a3f5f\",\"gridcolor\":\"white\",\"linecolor\":\"white\",\"minorgridcolor\":\"white\",\"startlinecolor\":\"#2a3f5f\"},\"baxis\":{\"endlinecolor\":\"#2a3f5f\",\"gridcolor\":\"white\",\"linecolor\":\"white\",\"minorgridcolor\":\"white\",\"startlinecolor\":\"#2a3f5f\"},\"type\":\"carpet\"}],\"choropleth\":[{\"colorbar\":{\"outlinewidth\":0,\"ticks\":\"\"},\"type\":\"choropleth\"}],\"contour\":[{\"colorbar\":{\"outlinewidth\":0,\"ticks\":\"\"},\"colorscale\":[[0.0,\"#0d0887\"],[0.1111111111111111,\"#46039f\"],[0.2222222222222222,\"#7201a8\"],[0.3333333333333333,\"#9c179e\"],[0.4444444444444444,\"#bd3786\"],[0.5555555555555556,\"#d8576b\"],[0.6666666666666666,\"#ed7953\"],[0.7777777777777778,\"#fb9f3a\"],[0.8888888888888888,\"#fdca26\"],[1.0,\"#f0f921\"]],\"type\":\"contour\"}],\"contourcarpet\":[{\"colorbar\":{\"outlinewidth\":0,\"ticks\":\"\"},\"type\":\"contourcarpet\"}],\"heatmap\":[{\"colorbar\":{\"outlinewidth\":0,\"ticks\":\"\"},\"colorscale\":[[0.0,\"#0d0887\"],[0.1111111111111111,\"#46039f\"],[0.2222222222222222,\"#7201a8\"],[0.3333333333333333,\"#9c179e\"],[0.4444444444444444,\"#bd3786\"],[0.5555555555555556,\"#d8576b\"],[0.6666666666666666,\"#ed7953\"],[0.7777777777777778,\"#fb9f3a\"],[0.8888888888888888,\"#fdca26\"],[1.0,\"#f0f921\"]],\"type\":\"heatmap\"}],\"heatmapgl\":[{\"colorbar\":{\"outlinewidth\":0,\"ticks\":\"\"},\"colorscale\":[[0.0,\"#0d0887\"],[0.1111111111111111,\"#46039f\"],[0.2222222222222222,\"#7201a8\"],[0.3333333333333333,\"#9c179e\"],[0.4444444444444444,\"#bd3786\"],[0.5555555555555556,\"#d8576b\"],[0.6666666666666666,\"#ed7953\"],[0.7777777777777778,\"#fb9f3a\"],[0.8888888888888888,\"#fdca26\"],[1.0,\"#f0f921\"]],\"type\":\"heatmapgl\"}],\"histogram\":[{\"marker\":{\"pattern\":{\"fillmode\":\"overlay\",\"size\":10,\"solidity\":0.2}},\"type\":\"histogram\"}],\"histogram2d\":[{\"colorbar\":{\"outlinewidth\":0,\"ticks\":\"\"},\"colorscale\":[[0.0,\"#0d0887\"],[0.1111111111111111,\"#46039f\"],[0.2222222222222222,\"#7201a8\"],[0.3333333333333333,\"#9c179e\"],[0.4444444444444444,\"#bd3786\"],[0.5555555555555556,\"#d8576b\"],[0.6666666666666666,\"#ed7953\"],[0.7777777777777778,\"#fb9f3a\"],[0.8888888888888888,\"#fdca26\"],[1.0,\"#f0f921\"]],\"type\":\"histogram2d\"}],\"histogram2dcontour\":[{\"colorbar\":{\"outlinewidth\":0,\"ticks\":\"\"},\"colorscale\":[[0.0,\"#0d0887\"],[0.1111111111111111,\"#46039f\"],[0.2222222222222222,\"#7201a8\"],[0.3333333333333333,\"#9c179e\"],[0.4444444444444444,\"#bd3786\"],[0.5555555555555556,\"#d8576b\"],[0.6666666666666666,\"#ed7953\"],[0.7777777777777778,\"#fb9f3a\"],[0.8888888888888888,\"#fdca26\"],[1.0,\"#f0f921\"]],\"type\":\"histogram2dcontour\"}],\"mesh3d\":[{\"colorbar\":{\"outlinewidth\":0,\"ticks\":\"\"},\"type\":\"mesh3d\"}],\"parcoords\":[{\"line\":{\"colorbar\":{\"outlinewidth\":0,\"ticks\":\"\"}},\"type\":\"parcoords\"}],\"pie\":[{\"automargin\":true,\"type\":\"pie\"}],\"scatter\":[{\"marker\":{\"colorbar\":{\"outlinewidth\":0,\"ticks\":\"\"}},\"type\":\"scatter\"}],\"scatter3d\":[{\"line\":{\"colorbar\":{\"outlinewidth\":0,\"ticks\":\"\"}},\"marker\":{\"colorbar\":{\"outlinewidth\":0,\"ticks\":\"\"}},\"type\":\"scatter3d\"}],\"scattercarpet\":[{\"marker\":{\"colorbar\":{\"outlinewidth\":0,\"ticks\":\"\"}},\"type\":\"scattercarpet\"}],\"scattergeo\":[{\"marker\":{\"colorbar\":{\"outlinewidth\":0,\"ticks\":\"\"}},\"type\":\"scattergeo\"}],\"scattergl\":[{\"marker\":{\"colorbar\":{\"outlinewidth\":0,\"ticks\":\"\"}},\"type\":\"scattergl\"}],\"scattermapbox\":[{\"marker\":{\"colorbar\":{\"outlinewidth\":0,\"ticks\":\"\"}},\"type\":\"scattermapbox\"}],\"scatterpolar\":[{\"marker\":{\"colorbar\":{\"outlinewidth\":0,\"ticks\":\"\"}},\"type\":\"scatterpolar\"}],\"scatterpolargl\":[{\"marker\":{\"colorbar\":{\"outlinewidth\":0,\"ticks\":\"\"}},\"type\":\"scatterpolargl\"}],\"scatterternary\":[{\"marker\":{\"colorbar\":{\"outlinewidth\":0,\"ticks\":\"\"}},\"type\":\"scatterternary\"}],\"surface\":[{\"colorbar\":{\"outlinewidth\":0,\"ticks\":\"\"},\"colorscale\":[[0.0,\"#0d0887\"],[0.1111111111111111,\"#46039f\"],[0.2222222222222222,\"#7201a8\"],[0.3333333333333333,\"#9c179e\"],[0.4444444444444444,\"#bd3786\"],[0.5555555555555556,\"#d8576b\"],[0.6666666666666666,\"#ed7953\"],[0.7777777777777778,\"#fb9f3a\"],[0.8888888888888888,\"#fdca26\"],[1.0,\"#f0f921\"]],\"type\":\"surface\"}],\"table\":[{\"cells\":{\"fill\":{\"color\":\"#EBF0F8\"},\"line\":{\"color\":\"white\"}},\"header\":{\"fill\":{\"color\":\"#C8D4E3\"},\"line\":{\"color\":\"white\"}},\"type\":\"table\"}]},\"layout\":{\"annotationdefaults\":{\"arrowcolor\":\"#2a3f5f\",\"arrowhead\":0,\"arrowwidth\":1},\"autotypenumbers\":\"strict\",\"coloraxis\":{\"colorbar\":{\"outlinewidth\":0,\"ticks\":\"\"}},\"colorscale\":{\"diverging\":[[0,\"#8e0152\"],[0.1,\"#c51b7d\"],[0.2,\"#de77ae\"],[0.3,\"#f1b6da\"],[0.4,\"#fde0ef\"],[0.5,\"#f7f7f7\"],[0.6,\"#e6f5d0\"],[0.7,\"#b8e186\"],[0.8,\"#7fbc41\"],[0.9,\"#4d9221\"],[1,\"#276419\"]],\"sequential\":[[0.0,\"#0d0887\"],[0.1111111111111111,\"#46039f\"],[0.2222222222222222,\"#7201a8\"],[0.3333333333333333,\"#9c179e\"],[0.4444444444444444,\"#bd3786\"],[0.5555555555555556,\"#d8576b\"],[0.6666666666666666,\"#ed7953\"],[0.7777777777777778,\"#fb9f3a\"],[0.8888888888888888,\"#fdca26\"],[1.0,\"#f0f921\"]],\"sequentialminus\":[[0.0,\"#0d0887\"],[0.1111111111111111,\"#46039f\"],[0.2222222222222222,\"#7201a8\"],[0.3333333333333333,\"#9c179e\"],[0.4444444444444444,\"#bd3786\"],[0.5555555555555556,\"#d8576b\"],[0.6666666666666666,\"#ed7953\"],[0.7777777777777778,\"#fb9f3a\"],[0.8888888888888888,\"#fdca26\"],[1.0,\"#f0f921\"]]},\"colorway\":[\"#636efa\",\"#EF553B\",\"#00cc96\",\"#ab63fa\",\"#FFA15A\",\"#19d3f3\",\"#FF6692\",\"#B6E880\",\"#FF97FF\",\"#FECB52\"],\"font\":{\"color\":\"#2a3f5f\"},\"geo\":{\"bgcolor\":\"white\",\"lakecolor\":\"white\",\"landcolor\":\"#E5ECF6\",\"showlakes\":true,\"showland\":true,\"subunitcolor\":\"white\"},\"hoverlabel\":{\"align\":\"left\"},\"hovermode\":\"closest\",\"mapbox\":{\"style\":\"light\"},\"paper_bgcolor\":\"white\",\"plot_bgcolor\":\"#E5ECF6\",\"polar\":{\"angularaxis\":{\"gridcolor\":\"white\",\"linecolor\":\"white\",\"ticks\":\"\"},\"bgcolor\":\"#E5ECF6\",\"radialaxis\":{\"gridcolor\":\"white\",\"linecolor\":\"white\",\"ticks\":\"\"}},\"scene\":{\"xaxis\":{\"backgroundcolor\":\"#E5ECF6\",\"gridcolor\":\"white\",\"gridwidth\":2,\"linecolor\":\"white\",\"showbackground\":true,\"ticks\":\"\",\"zerolinecolor\":\"white\"},\"yaxis\":{\"backgroundcolor\":\"#E5ECF6\",\"gridcolor\":\"white\",\"gridwidth\":2,\"linecolor\":\"white\",\"showbackground\":true,\"ticks\":\"\",\"zerolinecolor\":\"white\"},\"zaxis\":{\"backgroundcolor\":\"#E5ECF6\",\"gridcolor\":\"white\",\"gridwidth\":2,\"linecolor\":\"white\",\"showbackground\":true,\"ticks\":\"\",\"zerolinecolor\":\"white\"}},\"shapedefaults\":{\"line\":{\"color\":\"#2a3f5f\"}},\"ternary\":{\"aaxis\":{\"gridcolor\":\"white\",\"linecolor\":\"white\",\"ticks\":\"\"},\"baxis\":{\"gridcolor\":\"white\",\"linecolor\":\"white\",\"ticks\":\"\"},\"bgcolor\":\"#E5ECF6\",\"caxis\":{\"gridcolor\":\"white\",\"linecolor\":\"white\",\"ticks\":\"\"}},\"title\":{\"x\":0.05},\"xaxis\":{\"automargin\":true,\"gridcolor\":\"white\",\"linecolor\":\"white\",\"ticks\":\"\",\"title\":{\"standoff\":15},\"zerolinecolor\":\"white\",\"zerolinewidth\":2},\"yaxis\":{\"automargin\":true,\"gridcolor\":\"white\",\"linecolor\":\"white\",\"ticks\":\"\",\"title\":{\"standoff\":15},\"zerolinecolor\":\"white\",\"zerolinewidth\":2}}},\"xaxis\":{\"anchor\":\"y\",\"domain\":[0.0,1.0]},\"yaxis\":{\"anchor\":\"x\",\"domain\":[0.0,1.0]},\"title\":{\"font\":{\"size\":16,\"family\":\"Arial\"},\"text\":\"Top 13 best authors\",\"x\":0.5},\"font\":{\"family\":\"Arial\",\"size\":12,\"color\":\"black\"},\"showlegend\":false},                        {\"responsive\": true}                    ).then(function(){\n",
       "                            \n",
       "var gd = document.getElementById('efe908ec-4aa0-41b6-9f69-8274cdd1e4e4');\n",
       "var x = new MutationObserver(function (mutations, observer) {{\n",
       "        var display = window.getComputedStyle(gd).display;\n",
       "        if (!display || display === 'none') {{\n",
       "            console.log([gd, 'removed!']);\n",
       "            Plotly.purge(gd);\n",
       "            observer.disconnect();\n",
       "        }}\n",
       "}});\n",
       "\n",
       "// Listen for the removal of the full notebook cells\n",
       "var notebookContainer = gd.closest('#notebook-container');\n",
       "if (notebookContainer) {{\n",
       "    x.observe(notebookContainer, {childList: true});\n",
       "}}\n",
       "\n",
       "// Listen for the clearing of the current output cell\n",
       "var outputEl = gd.closest('.output');\n",
       "if (outputEl) {{\n",
       "    x.observe(outputEl, {childList: true});\n",
       "}}\n",
       "\n",
       "                        })                };                });            </script>        </div>"
      ]
     },
     "metadata": {},
     "output_type": "display_data"
    }
   ],
   "source": [
    "from plotly.subplots import make_subplots\n",
    "import plotly.graph_objects as go\n",
    "\n",
    "fig1 = make_subplots(rows=1,cols=1)\n",
    "fig1.add_trace(go.Table(\n",
    "    header=dict(values=top_13_authors.columns,\n",
    "               line_color='darkslategray',\n",
    "                fill_color='lightskyblue',\n",
    "                align='left'),\n",
    "    cells=dict(values=[top_13_authors['Author'],\n",
    "              top_13_authors['User Rating']],\n",
    "              line_color='darkslategray',\n",
    "               fill_color='lightcyan',\n",
    "               align='left')\n",
    "))\n",
    "fig1.update_layout(showlegend=False, \n",
    "                    title_text='Top 13 best authors', \n",
    "                    title_font_size=16, \n",
    "                    title_font_family='Arial', \n",
    "                    title_x=0.5,\n",
    "                    font=dict(family='Arial', \n",
    "                              size=12, \n",
    "                              color='black'))"
   ]
  },
  {
   "cell_type": "markdown",
   "id": "64d28b35",
   "metadata": {
    "papermill": {
     "duration": 0.055163,
     "end_time": "2021-12-12T22:13:37.017910",
     "exception": false,
     "start_time": "2021-12-12T22:13:36.962747",
     "status": "completed"
    },
    "tags": []
   },
   "source": [
    "#### These 13 authors have received heighest rating of 4.9 for their published books. You should keep an eye to these authors."
   ]
  },
  {
   "cell_type": "code",
   "execution_count": 30,
   "id": "271f7499",
   "metadata": {
    "execution": {
     "iopub.execute_input": "2021-12-12T22:13:37.139028Z",
     "iopub.status.busy": "2021-12-12T22:13:37.138157Z",
     "iopub.status.idle": "2021-12-12T22:13:37.212275Z",
     "shell.execute_reply": "2021-12-12T22:13:37.211676Z",
     "shell.execute_reply.started": "2021-12-12T16:41:47.448396Z"
    },
    "papermill": {
     "duration": 0.13915,
     "end_time": "2021-12-12T22:13:37.212417",
     "exception": false,
     "start_time": "2021-12-12T22:13:37.073267",
     "status": "completed"
    },
    "tags": []
   },
   "outputs": [
    {
     "data": {
      "text/html": [
       "<div>                            <div id=\"ea4783bb-0f8b-42a8-8b10-739e0c48941d\" class=\"plotly-graph-div\" style=\"height:525px; width:100%;\"></div>            <script type=\"text/javascript\">                require([\"plotly\"], function(Plotly) {                    window.PLOTLYENV=window.PLOTLYENV || {};                                    if (document.getElementById(\"ea4783bb-0f8b-42a8-8b10-739e0c48941d\")) {                    Plotly.newPlot(                        \"ea4783bb-0f8b-42a8-8b10-739e0c48941d\",                        [{\"marker\":{\"color\":[\"#ff6666\",\"#f76e6e\",\"#f07575\",\"#e87d7d\",\"#e08585\",\"#d98c8c\",\"#d19494\",\"#c99c9c\",\"#c2a3a3\",\"#baabab\"]},\"name\":\"Count books\",\"x\":[\"Jeff Kinney\",\"Rick Riordan\",\"J.K. Rowling\",\"Stephenie Meyer\",\"Dav Pilkey\",\"Bill O'Reilly\",\"John Grisham\",\"E L James\",\"Suzanne Collins\",\"Charlaine Harris\"],\"y\":[12,10,8,7,6,6,5,5,5,4],\"type\":\"bar\",\"xaxis\":\"x\",\"yaxis\":\"y\"},{\"marker\":{\"color\":[\"#ff6666\",\"#f47171\",\"#e87d7d\",\"#dd8888\",\"#d19494\"]},\"name\":\"Reviews\",\"x\":[\"The Fault In Our Stars\",\"Oh, The Places You'Ll Go!\",\"Gone Girl\",\"The Girl On The Train\",\"Unbroken: A World War Ii Story Of Survival, Resilience, And Redemption\",\"The 5 Love Languages: The Secret To Love That Lasts\",\"The Four Agreements: A Practical Guide To Personal Freedom (A Toltec Wisdom Book)\",\"The Very Hungry Caterpillar\",\"To Kill A Mockingbird\",\"How To Win Friends & Influence People\"],\"y\":[201928,174672,171813,158892,148365,145155,139848,136822,131170,125005],\"type\":\"bar\",\"xaxis\":\"x2\",\"yaxis\":\"y2\"}],                        {\"template\":{\"data\":{\"bar\":[{\"error_x\":{\"color\":\"#2a3f5f\"},\"error_y\":{\"color\":\"#2a3f5f\"},\"marker\":{\"line\":{\"color\":\"#E5ECF6\",\"width\":0.5},\"pattern\":{\"fillmode\":\"overlay\",\"size\":10,\"solidity\":0.2}},\"type\":\"bar\"}],\"barpolar\":[{\"marker\":{\"line\":{\"color\":\"#E5ECF6\",\"width\":0.5},\"pattern\":{\"fillmode\":\"overlay\",\"size\":10,\"solidity\":0.2}},\"type\":\"barpolar\"}],\"carpet\":[{\"aaxis\":{\"endlinecolor\":\"#2a3f5f\",\"gridcolor\":\"white\",\"linecolor\":\"white\",\"minorgridcolor\":\"white\",\"startlinecolor\":\"#2a3f5f\"},\"baxis\":{\"endlinecolor\":\"#2a3f5f\",\"gridcolor\":\"white\",\"linecolor\":\"white\",\"minorgridcolor\":\"white\",\"startlinecolor\":\"#2a3f5f\"},\"type\":\"carpet\"}],\"choropleth\":[{\"colorbar\":{\"outlinewidth\":0,\"ticks\":\"\"},\"type\":\"choropleth\"}],\"contour\":[{\"colorbar\":{\"outlinewidth\":0,\"ticks\":\"\"},\"colorscale\":[[0.0,\"#0d0887\"],[0.1111111111111111,\"#46039f\"],[0.2222222222222222,\"#7201a8\"],[0.3333333333333333,\"#9c179e\"],[0.4444444444444444,\"#bd3786\"],[0.5555555555555556,\"#d8576b\"],[0.6666666666666666,\"#ed7953\"],[0.7777777777777778,\"#fb9f3a\"],[0.8888888888888888,\"#fdca26\"],[1.0,\"#f0f921\"]],\"type\":\"contour\"}],\"contourcarpet\":[{\"colorbar\":{\"outlinewidth\":0,\"ticks\":\"\"},\"type\":\"contourcarpet\"}],\"heatmap\":[{\"colorbar\":{\"outlinewidth\":0,\"ticks\":\"\"},\"colorscale\":[[0.0,\"#0d0887\"],[0.1111111111111111,\"#46039f\"],[0.2222222222222222,\"#7201a8\"],[0.3333333333333333,\"#9c179e\"],[0.4444444444444444,\"#bd3786\"],[0.5555555555555556,\"#d8576b\"],[0.6666666666666666,\"#ed7953\"],[0.7777777777777778,\"#fb9f3a\"],[0.8888888888888888,\"#fdca26\"],[1.0,\"#f0f921\"]],\"type\":\"heatmap\"}],\"heatmapgl\":[{\"colorbar\":{\"outlinewidth\":0,\"ticks\":\"\"},\"colorscale\":[[0.0,\"#0d0887\"],[0.1111111111111111,\"#46039f\"],[0.2222222222222222,\"#7201a8\"],[0.3333333333333333,\"#9c179e\"],[0.4444444444444444,\"#bd3786\"],[0.5555555555555556,\"#d8576b\"],[0.6666666666666666,\"#ed7953\"],[0.7777777777777778,\"#fb9f3a\"],[0.8888888888888888,\"#fdca26\"],[1.0,\"#f0f921\"]],\"type\":\"heatmapgl\"}],\"histogram\":[{\"marker\":{\"pattern\":{\"fillmode\":\"overlay\",\"size\":10,\"solidity\":0.2}},\"type\":\"histogram\"}],\"histogram2d\":[{\"colorbar\":{\"outlinewidth\":0,\"ticks\":\"\"},\"colorscale\":[[0.0,\"#0d0887\"],[0.1111111111111111,\"#46039f\"],[0.2222222222222222,\"#7201a8\"],[0.3333333333333333,\"#9c179e\"],[0.4444444444444444,\"#bd3786\"],[0.5555555555555556,\"#d8576b\"],[0.6666666666666666,\"#ed7953\"],[0.7777777777777778,\"#fb9f3a\"],[0.8888888888888888,\"#fdca26\"],[1.0,\"#f0f921\"]],\"type\":\"histogram2d\"}],\"histogram2dcontour\":[{\"colorbar\":{\"outlinewidth\":0,\"ticks\":\"\"},\"colorscale\":[[0.0,\"#0d0887\"],[0.1111111111111111,\"#46039f\"],[0.2222222222222222,\"#7201a8\"],[0.3333333333333333,\"#9c179e\"],[0.4444444444444444,\"#bd3786\"],[0.5555555555555556,\"#d8576b\"],[0.6666666666666666,\"#ed7953\"],[0.7777777777777778,\"#fb9f3a\"],[0.8888888888888888,\"#fdca26\"],[1.0,\"#f0f921\"]],\"type\":\"histogram2dcontour\"}],\"mesh3d\":[{\"colorbar\":{\"outlinewidth\":0,\"ticks\":\"\"},\"type\":\"mesh3d\"}],\"parcoords\":[{\"line\":{\"colorbar\":{\"outlinewidth\":0,\"ticks\":\"\"}},\"type\":\"parcoords\"}],\"pie\":[{\"automargin\":true,\"type\":\"pie\"}],\"scatter\":[{\"marker\":{\"colorbar\":{\"outlinewidth\":0,\"ticks\":\"\"}},\"type\":\"scatter\"}],\"scatter3d\":[{\"line\":{\"colorbar\":{\"outlinewidth\":0,\"ticks\":\"\"}},\"marker\":{\"colorbar\":{\"outlinewidth\":0,\"ticks\":\"\"}},\"type\":\"scatter3d\"}],\"scattercarpet\":[{\"marker\":{\"colorbar\":{\"outlinewidth\":0,\"ticks\":\"\"}},\"type\":\"scattercarpet\"}],\"scattergeo\":[{\"marker\":{\"colorbar\":{\"outlinewidth\":0,\"ticks\":\"\"}},\"type\":\"scattergeo\"}],\"scattergl\":[{\"marker\":{\"colorbar\":{\"outlinewidth\":0,\"ticks\":\"\"}},\"type\":\"scattergl\"}],\"scattermapbox\":[{\"marker\":{\"colorbar\":{\"outlinewidth\":0,\"ticks\":\"\"}},\"type\":\"scattermapbox\"}],\"scatterpolar\":[{\"marker\":{\"colorbar\":{\"outlinewidth\":0,\"ticks\":\"\"}},\"type\":\"scatterpolar\"}],\"scatterpolargl\":[{\"marker\":{\"colorbar\":{\"outlinewidth\":0,\"ticks\":\"\"}},\"type\":\"scatterpolargl\"}],\"scatterternary\":[{\"marker\":{\"colorbar\":{\"outlinewidth\":0,\"ticks\":\"\"}},\"type\":\"scatterternary\"}],\"surface\":[{\"colorbar\":{\"outlinewidth\":0,\"ticks\":\"\"},\"colorscale\":[[0.0,\"#0d0887\"],[0.1111111111111111,\"#46039f\"],[0.2222222222222222,\"#7201a8\"],[0.3333333333333333,\"#9c179e\"],[0.4444444444444444,\"#bd3786\"],[0.5555555555555556,\"#d8576b\"],[0.6666666666666666,\"#ed7953\"],[0.7777777777777778,\"#fb9f3a\"],[0.8888888888888888,\"#fdca26\"],[1.0,\"#f0f921\"]],\"type\":\"surface\"}],\"table\":[{\"cells\":{\"fill\":{\"color\":\"#EBF0F8\"},\"line\":{\"color\":\"white\"}},\"header\":{\"fill\":{\"color\":\"#C8D4E3\"},\"line\":{\"color\":\"white\"}},\"type\":\"table\"}]},\"layout\":{\"annotationdefaults\":{\"arrowcolor\":\"#2a3f5f\",\"arrowhead\":0,\"arrowwidth\":1},\"autotypenumbers\":\"strict\",\"coloraxis\":{\"colorbar\":{\"outlinewidth\":0,\"ticks\":\"\"}},\"colorscale\":{\"diverging\":[[0,\"#8e0152\"],[0.1,\"#c51b7d\"],[0.2,\"#de77ae\"],[0.3,\"#f1b6da\"],[0.4,\"#fde0ef\"],[0.5,\"#f7f7f7\"],[0.6,\"#e6f5d0\"],[0.7,\"#b8e186\"],[0.8,\"#7fbc41\"],[0.9,\"#4d9221\"],[1,\"#276419\"]],\"sequential\":[[0.0,\"#0d0887\"],[0.1111111111111111,\"#46039f\"],[0.2222222222222222,\"#7201a8\"],[0.3333333333333333,\"#9c179e\"],[0.4444444444444444,\"#bd3786\"],[0.5555555555555556,\"#d8576b\"],[0.6666666666666666,\"#ed7953\"],[0.7777777777777778,\"#fb9f3a\"],[0.8888888888888888,\"#fdca26\"],[1.0,\"#f0f921\"]],\"sequentialminus\":[[0.0,\"#0d0887\"],[0.1111111111111111,\"#46039f\"],[0.2222222222222222,\"#7201a8\"],[0.3333333333333333,\"#9c179e\"],[0.4444444444444444,\"#bd3786\"],[0.5555555555555556,\"#d8576b\"],[0.6666666666666666,\"#ed7953\"],[0.7777777777777778,\"#fb9f3a\"],[0.8888888888888888,\"#fdca26\"],[1.0,\"#f0f921\"]]},\"colorway\":[\"#636efa\",\"#EF553B\",\"#00cc96\",\"#ab63fa\",\"#FFA15A\",\"#19d3f3\",\"#FF6692\",\"#B6E880\",\"#FF97FF\",\"#FECB52\"],\"font\":{\"color\":\"#2a3f5f\"},\"geo\":{\"bgcolor\":\"white\",\"lakecolor\":\"white\",\"landcolor\":\"#E5ECF6\",\"showlakes\":true,\"showland\":true,\"subunitcolor\":\"white\"},\"hoverlabel\":{\"align\":\"left\"},\"hovermode\":\"closest\",\"mapbox\":{\"style\":\"light\"},\"paper_bgcolor\":\"white\",\"plot_bgcolor\":\"#E5ECF6\",\"polar\":{\"angularaxis\":{\"gridcolor\":\"white\",\"linecolor\":\"white\",\"ticks\":\"\"},\"bgcolor\":\"#E5ECF6\",\"radialaxis\":{\"gridcolor\":\"white\",\"linecolor\":\"white\",\"ticks\":\"\"}},\"scene\":{\"xaxis\":{\"backgroundcolor\":\"#E5ECF6\",\"gridcolor\":\"white\",\"gridwidth\":2,\"linecolor\":\"white\",\"showbackground\":true,\"ticks\":\"\",\"zerolinecolor\":\"white\"},\"yaxis\":{\"backgroundcolor\":\"#E5ECF6\",\"gridcolor\":\"white\",\"gridwidth\":2,\"linecolor\":\"white\",\"showbackground\":true,\"ticks\":\"\",\"zerolinecolor\":\"white\"},\"zaxis\":{\"backgroundcolor\":\"#E5ECF6\",\"gridcolor\":\"white\",\"gridwidth\":2,\"linecolor\":\"white\",\"showbackground\":true,\"ticks\":\"\",\"zerolinecolor\":\"white\"}},\"shapedefaults\":{\"line\":{\"color\":\"#2a3f5f\"}},\"ternary\":{\"aaxis\":{\"gridcolor\":\"white\",\"linecolor\":\"white\",\"ticks\":\"\"},\"baxis\":{\"gridcolor\":\"white\",\"linecolor\":\"white\",\"ticks\":\"\"},\"bgcolor\":\"#E5ECF6\",\"caxis\":{\"gridcolor\":\"white\",\"linecolor\":\"white\",\"ticks\":\"\"}},\"title\":{\"x\":0.05},\"xaxis\":{\"automargin\":true,\"gridcolor\":\"white\",\"linecolor\":\"white\",\"ticks\":\"\",\"title\":{\"standoff\":15},\"zerolinecolor\":\"white\",\"zerolinewidth\":2},\"yaxis\":{\"automargin\":true,\"gridcolor\":\"white\",\"linecolor\":\"white\",\"ticks\":\"\",\"title\":{\"standoff\":15},\"zerolinecolor\":\"white\",\"zerolinewidth\":2}}},\"xaxis\":{\"anchor\":\"y\",\"domain\":[0.0,0.45]},\"yaxis\":{\"anchor\":\"x\",\"domain\":[0.0,1.0]},\"xaxis2\":{\"anchor\":\"y2\",\"domain\":[0.55,1.0]},\"yaxis2\":{\"anchor\":\"x2\",\"domain\":[0.0,1.0]},\"annotations\":[{\"font\":{\"size\":16},\"showarrow\":false,\"text\":\"Top 10 authors by number of bestsellers\",\"x\":0.225,\"xanchor\":\"center\",\"xref\":\"paper\",\"y\":1.0,\"yanchor\":\"bottom\",\"yref\":\"paper\"},{\"font\":{\"size\":16},\"showarrow\":false,\"text\":\"Top 5 books by number of reviews\",\"x\":0.775,\"xanchor\":\"center\",\"xref\":\"paper\",\"y\":1.0,\"yanchor\":\"bottom\",\"yref\":\"paper\"}]},                        {\"responsive\": true}                    ).then(function(){\n",
       "                            \n",
       "var gd = document.getElementById('ea4783bb-0f8b-42a8-8b10-739e0c48941d');\n",
       "var x = new MutationObserver(function (mutations, observer) {{\n",
       "        var display = window.getComputedStyle(gd).display;\n",
       "        if (!display || display === 'none') {{\n",
       "            console.log([gd, 'removed!']);\n",
       "            Plotly.purge(gd);\n",
       "            observer.disconnect();\n",
       "        }}\n",
       "}});\n",
       "\n",
       "// Listen for the removal of the full notebook cells\n",
       "var notebookContainer = gd.closest('#notebook-container');\n",
       "if (notebookContainer) {{\n",
       "    x.observe(notebookContainer, {childList: true});\n",
       "}}\n",
       "\n",
       "// Listen for the clearing of the current output cell\n",
       "var outputEl = gd.closest('.output');\n",
       "if (outputEl) {{\n",
       "    x.observe(outputEl, {childList: true});\n",
       "}}\n",
       "\n",
       "                        })                };                });            </script>        </div>"
      ]
     },
     "metadata": {},
     "output_type": "display_data"
    }
   ],
   "source": [
    "fig2 = make_subplots(rows=1,cols=2,\n",
    "                    specs=[[{'type': 'xy'}, {\"type\": \"xy\"}]],\n",
    "                    subplot_titles=(\"Top 10 authors by number of bestsellers\", \n",
    "                                      \"Top 5 books by number of reviews\"))\n",
    "fig2.add_trace(go.Bar(x=top10_authors['Author'],\n",
    "                     y=top10_authors['Name'],\n",
    "                     name ='Count books',\n",
    "                     marker_color=['#ff6666','#f76e6e', '#f07575', '#e87d7d', '#e08585',\n",
    "                                     '#d98c8c', '#d19494', '#c99c9c', '#c2a3a3', '#baabab']),\n",
    "                     row=1,col=1)\n",
    "fig2.add_trace(go.Bar(x=top_reviewed_books['Name'],\n",
    "                     y=top_reviewed_books['Reviews'],\n",
    "                     name ='Reviews',\n",
    "                     marker_color=['#ff6666','#f47171', '#e87d7d', '#dd8888', '#d19494']),\n",
    "                     row=1,col=2)"
   ]
  },
  {
   "cell_type": "markdown",
   "id": "1b700b9d",
   "metadata": {
    "papermill": {
     "duration": 0.05704,
     "end_time": "2021-12-12T22:13:37.325990",
     "exception": false,
     "start_time": "2021-12-12T22:13:37.268950",
     "status": "completed"
    },
    "tags": []
   },
   "source": [
    "#### From the above bar plot, we can see that the top 10 authors based on the total number of best selling novels have been written by them and top 10 books based on number of reviews have been given to the best selling books."
   ]
  },
  {
   "cell_type": "code",
   "execution_count": 31,
   "id": "51ac73fb",
   "metadata": {
    "execution": {
     "iopub.execute_input": "2021-12-12T22:13:37.452873Z",
     "iopub.status.busy": "2021-12-12T22:13:37.451829Z",
     "iopub.status.idle": "2021-12-12T22:13:37.507454Z",
     "shell.execute_reply": "2021-12-12T22:13:37.508111Z",
     "shell.execute_reply.started": "2021-12-12T16:41:47.534214Z"
    },
    "papermill": {
     "duration": 0.126392,
     "end_time": "2021-12-12T22:13:37.508285",
     "exception": false,
     "start_time": "2021-12-12T22:13:37.381893",
     "status": "completed"
    },
    "tags": []
   },
   "outputs": [
    {
     "data": {
      "text/html": [
       "<div>                            <div id=\"0de6b9cb-7c4d-456b-8fe4-e63b1e72e8ac\" class=\"plotly-graph-div\" style=\"height:525px; width:100%;\"></div>            <script type=\"text/javascript\">                require([\"plotly\"], function(Plotly) {                    window.PLOTLYENV=window.PLOTLYENV || {};                                    if (document.getElementById(\"0de6b9cb-7c4d-456b-8fe4-e63b1e72e8ac\")) {                    Plotly.newPlot(                        \"0de6b9cb-7c4d-456b-8fe4-e63b1e72e8ac\",                        [{\"hole\":0.3,\"insidetextorientation\":\"radial\",\"labels\":[\"Non Fiction\",\"Fiction\"],\"marker\":{\"colors\":[\"Gray\",\"Salmon\"],\"line\":{\"color\":\"Gray\",\"width\":1}},\"textfont\":{\"color\":\"#FFFFFF\",\"size\":12},\"textinfo\":\"label+percent\",\"title\":{\"text\":\"Genre\"},\"values\":[190,160],\"type\":\"pie\"}],                        {\"template\":{\"data\":{\"bar\":[{\"error_x\":{\"color\":\"#2a3f5f\"},\"error_y\":{\"color\":\"#2a3f5f\"},\"marker\":{\"line\":{\"color\":\"#E5ECF6\",\"width\":0.5},\"pattern\":{\"fillmode\":\"overlay\",\"size\":10,\"solidity\":0.2}},\"type\":\"bar\"}],\"barpolar\":[{\"marker\":{\"line\":{\"color\":\"#E5ECF6\",\"width\":0.5},\"pattern\":{\"fillmode\":\"overlay\",\"size\":10,\"solidity\":0.2}},\"type\":\"barpolar\"}],\"carpet\":[{\"aaxis\":{\"endlinecolor\":\"#2a3f5f\",\"gridcolor\":\"white\",\"linecolor\":\"white\",\"minorgridcolor\":\"white\",\"startlinecolor\":\"#2a3f5f\"},\"baxis\":{\"endlinecolor\":\"#2a3f5f\",\"gridcolor\":\"white\",\"linecolor\":\"white\",\"minorgridcolor\":\"white\",\"startlinecolor\":\"#2a3f5f\"},\"type\":\"carpet\"}],\"choropleth\":[{\"colorbar\":{\"outlinewidth\":0,\"ticks\":\"\"},\"type\":\"choropleth\"}],\"contour\":[{\"colorbar\":{\"outlinewidth\":0,\"ticks\":\"\"},\"colorscale\":[[0.0,\"#0d0887\"],[0.1111111111111111,\"#46039f\"],[0.2222222222222222,\"#7201a8\"],[0.3333333333333333,\"#9c179e\"],[0.4444444444444444,\"#bd3786\"],[0.5555555555555556,\"#d8576b\"],[0.6666666666666666,\"#ed7953\"],[0.7777777777777778,\"#fb9f3a\"],[0.8888888888888888,\"#fdca26\"],[1.0,\"#f0f921\"]],\"type\":\"contour\"}],\"contourcarpet\":[{\"colorbar\":{\"outlinewidth\":0,\"ticks\":\"\"},\"type\":\"contourcarpet\"}],\"heatmap\":[{\"colorbar\":{\"outlinewidth\":0,\"ticks\":\"\"},\"colorscale\":[[0.0,\"#0d0887\"],[0.1111111111111111,\"#46039f\"],[0.2222222222222222,\"#7201a8\"],[0.3333333333333333,\"#9c179e\"],[0.4444444444444444,\"#bd3786\"],[0.5555555555555556,\"#d8576b\"],[0.6666666666666666,\"#ed7953\"],[0.7777777777777778,\"#fb9f3a\"],[0.8888888888888888,\"#fdca26\"],[1.0,\"#f0f921\"]],\"type\":\"heatmap\"}],\"heatmapgl\":[{\"colorbar\":{\"outlinewidth\":0,\"ticks\":\"\"},\"colorscale\":[[0.0,\"#0d0887\"],[0.1111111111111111,\"#46039f\"],[0.2222222222222222,\"#7201a8\"],[0.3333333333333333,\"#9c179e\"],[0.4444444444444444,\"#bd3786\"],[0.5555555555555556,\"#d8576b\"],[0.6666666666666666,\"#ed7953\"],[0.7777777777777778,\"#fb9f3a\"],[0.8888888888888888,\"#fdca26\"],[1.0,\"#f0f921\"]],\"type\":\"heatmapgl\"}],\"histogram\":[{\"marker\":{\"pattern\":{\"fillmode\":\"overlay\",\"size\":10,\"solidity\":0.2}},\"type\":\"histogram\"}],\"histogram2d\":[{\"colorbar\":{\"outlinewidth\":0,\"ticks\":\"\"},\"colorscale\":[[0.0,\"#0d0887\"],[0.1111111111111111,\"#46039f\"],[0.2222222222222222,\"#7201a8\"],[0.3333333333333333,\"#9c179e\"],[0.4444444444444444,\"#bd3786\"],[0.5555555555555556,\"#d8576b\"],[0.6666666666666666,\"#ed7953\"],[0.7777777777777778,\"#fb9f3a\"],[0.8888888888888888,\"#fdca26\"],[1.0,\"#f0f921\"]],\"type\":\"histogram2d\"}],\"histogram2dcontour\":[{\"colorbar\":{\"outlinewidth\":0,\"ticks\":\"\"},\"colorscale\":[[0.0,\"#0d0887\"],[0.1111111111111111,\"#46039f\"],[0.2222222222222222,\"#7201a8\"],[0.3333333333333333,\"#9c179e\"],[0.4444444444444444,\"#bd3786\"],[0.5555555555555556,\"#d8576b\"],[0.6666666666666666,\"#ed7953\"],[0.7777777777777778,\"#fb9f3a\"],[0.8888888888888888,\"#fdca26\"],[1.0,\"#f0f921\"]],\"type\":\"histogram2dcontour\"}],\"mesh3d\":[{\"colorbar\":{\"outlinewidth\":0,\"ticks\":\"\"},\"type\":\"mesh3d\"}],\"parcoords\":[{\"line\":{\"colorbar\":{\"outlinewidth\":0,\"ticks\":\"\"}},\"type\":\"parcoords\"}],\"pie\":[{\"automargin\":true,\"type\":\"pie\"}],\"scatter\":[{\"marker\":{\"colorbar\":{\"outlinewidth\":0,\"ticks\":\"\"}},\"type\":\"scatter\"}],\"scatter3d\":[{\"line\":{\"colorbar\":{\"outlinewidth\":0,\"ticks\":\"\"}},\"marker\":{\"colorbar\":{\"outlinewidth\":0,\"ticks\":\"\"}},\"type\":\"scatter3d\"}],\"scattercarpet\":[{\"marker\":{\"colorbar\":{\"outlinewidth\":0,\"ticks\":\"\"}},\"type\":\"scattercarpet\"}],\"scattergeo\":[{\"marker\":{\"colorbar\":{\"outlinewidth\":0,\"ticks\":\"\"}},\"type\":\"scattergeo\"}],\"scattergl\":[{\"marker\":{\"colorbar\":{\"outlinewidth\":0,\"ticks\":\"\"}},\"type\":\"scattergl\"}],\"scattermapbox\":[{\"marker\":{\"colorbar\":{\"outlinewidth\":0,\"ticks\":\"\"}},\"type\":\"scattermapbox\"}],\"scatterpolar\":[{\"marker\":{\"colorbar\":{\"outlinewidth\":0,\"ticks\":\"\"}},\"type\":\"scatterpolar\"}],\"scatterpolargl\":[{\"marker\":{\"colorbar\":{\"outlinewidth\":0,\"ticks\":\"\"}},\"type\":\"scatterpolargl\"}],\"scatterternary\":[{\"marker\":{\"colorbar\":{\"outlinewidth\":0,\"ticks\":\"\"}},\"type\":\"scatterternary\"}],\"surface\":[{\"colorbar\":{\"outlinewidth\":0,\"ticks\":\"\"},\"colorscale\":[[0.0,\"#0d0887\"],[0.1111111111111111,\"#46039f\"],[0.2222222222222222,\"#7201a8\"],[0.3333333333333333,\"#9c179e\"],[0.4444444444444444,\"#bd3786\"],[0.5555555555555556,\"#d8576b\"],[0.6666666666666666,\"#ed7953\"],[0.7777777777777778,\"#fb9f3a\"],[0.8888888888888888,\"#fdca26\"],[1.0,\"#f0f921\"]],\"type\":\"surface\"}],\"table\":[{\"cells\":{\"fill\":{\"color\":\"#EBF0F8\"},\"line\":{\"color\":\"white\"}},\"header\":{\"fill\":{\"color\":\"#C8D4E3\"},\"line\":{\"color\":\"white\"}},\"type\":\"table\"}]},\"layout\":{\"annotationdefaults\":{\"arrowcolor\":\"#2a3f5f\",\"arrowhead\":0,\"arrowwidth\":1},\"autotypenumbers\":\"strict\",\"coloraxis\":{\"colorbar\":{\"outlinewidth\":0,\"ticks\":\"\"}},\"colorscale\":{\"diverging\":[[0,\"#8e0152\"],[0.1,\"#c51b7d\"],[0.2,\"#de77ae\"],[0.3,\"#f1b6da\"],[0.4,\"#fde0ef\"],[0.5,\"#f7f7f7\"],[0.6,\"#e6f5d0\"],[0.7,\"#b8e186\"],[0.8,\"#7fbc41\"],[0.9,\"#4d9221\"],[1,\"#276419\"]],\"sequential\":[[0.0,\"#0d0887\"],[0.1111111111111111,\"#46039f\"],[0.2222222222222222,\"#7201a8\"],[0.3333333333333333,\"#9c179e\"],[0.4444444444444444,\"#bd3786\"],[0.5555555555555556,\"#d8576b\"],[0.6666666666666666,\"#ed7953\"],[0.7777777777777778,\"#fb9f3a\"],[0.8888888888888888,\"#fdca26\"],[1.0,\"#f0f921\"]],\"sequentialminus\":[[0.0,\"#0d0887\"],[0.1111111111111111,\"#46039f\"],[0.2222222222222222,\"#7201a8\"],[0.3333333333333333,\"#9c179e\"],[0.4444444444444444,\"#bd3786\"],[0.5555555555555556,\"#d8576b\"],[0.6666666666666666,\"#ed7953\"],[0.7777777777777778,\"#fb9f3a\"],[0.8888888888888888,\"#fdca26\"],[1.0,\"#f0f921\"]]},\"colorway\":[\"#636efa\",\"#EF553B\",\"#00cc96\",\"#ab63fa\",\"#FFA15A\",\"#19d3f3\",\"#FF6692\",\"#B6E880\",\"#FF97FF\",\"#FECB52\"],\"font\":{\"color\":\"#2a3f5f\"},\"geo\":{\"bgcolor\":\"white\",\"lakecolor\":\"white\",\"landcolor\":\"#E5ECF6\",\"showlakes\":true,\"showland\":true,\"subunitcolor\":\"white\"},\"hoverlabel\":{\"align\":\"left\"},\"hovermode\":\"closest\",\"mapbox\":{\"style\":\"light\"},\"paper_bgcolor\":\"white\",\"plot_bgcolor\":\"#E5ECF6\",\"polar\":{\"angularaxis\":{\"gridcolor\":\"white\",\"linecolor\":\"white\",\"ticks\":\"\"},\"bgcolor\":\"#E5ECF6\",\"radialaxis\":{\"gridcolor\":\"white\",\"linecolor\":\"white\",\"ticks\":\"\"}},\"scene\":{\"xaxis\":{\"backgroundcolor\":\"#E5ECF6\",\"gridcolor\":\"white\",\"gridwidth\":2,\"linecolor\":\"white\",\"showbackground\":true,\"ticks\":\"\",\"zerolinecolor\":\"white\"},\"yaxis\":{\"backgroundcolor\":\"#E5ECF6\",\"gridcolor\":\"white\",\"gridwidth\":2,\"linecolor\":\"white\",\"showbackground\":true,\"ticks\":\"\",\"zerolinecolor\":\"white\"},\"zaxis\":{\"backgroundcolor\":\"#E5ECF6\",\"gridcolor\":\"white\",\"gridwidth\":2,\"linecolor\":\"white\",\"showbackground\":true,\"ticks\":\"\",\"zerolinecolor\":\"white\"}},\"shapedefaults\":{\"line\":{\"color\":\"#2a3f5f\"}},\"ternary\":{\"aaxis\":{\"gridcolor\":\"white\",\"linecolor\":\"white\",\"ticks\":\"\"},\"baxis\":{\"gridcolor\":\"white\",\"linecolor\":\"white\",\"ticks\":\"\"},\"bgcolor\":\"#E5ECF6\",\"caxis\":{\"gridcolor\":\"white\",\"linecolor\":\"white\",\"ticks\":\"\"}},\"title\":{\"x\":0.05},\"xaxis\":{\"automargin\":true,\"gridcolor\":\"white\",\"linecolor\":\"white\",\"ticks\":\"\",\"title\":{\"standoff\":15},\"zerolinecolor\":\"white\",\"zerolinewidth\":2},\"yaxis\":{\"automargin\":true,\"gridcolor\":\"white\",\"linecolor\":\"white\",\"ticks\":\"\",\"title\":{\"standoff\":15},\"zerolinecolor\":\"white\",\"zerolinewidth\":2}}}},                        {\"responsive\": true}                    ).then(function(){\n",
       "                            \n",
       "var gd = document.getElementById('0de6b9cb-7c4d-456b-8fe4-e63b1e72e8ac');\n",
       "var x = new MutationObserver(function (mutations, observer) {{\n",
       "        var display = window.getComputedStyle(gd).display;\n",
       "        if (!display || display === 'none') {{\n",
       "            console.log([gd, 'removed!']);\n",
       "            Plotly.purge(gd);\n",
       "            observer.disconnect();\n",
       "        }}\n",
       "}});\n",
       "\n",
       "// Listen for the removal of the full notebook cells\n",
       "var notebookContainer = gd.closest('#notebook-container');\n",
       "if (notebookContainer) {{\n",
       "    x.observe(notebookContainer, {childList: true});\n",
       "}}\n",
       "\n",
       "// Listen for the clearing of the current output cell\n",
       "var outputEl = gd.closest('.output');\n",
       "if (outputEl) {{\n",
       "    x.observe(outputEl, {childList: true});\n",
       "}}\n",
       "\n",
       "                        })                };                });            </script>        </div>"
      ]
     },
     "metadata": {},
     "output_type": "display_data"
    }
   ],
   "source": [
    "fig3 = make_subplots(rows=1,cols=1,\n",
    "                    specs=[[{'type': 'domain'}]],\n",
    "                      subplot_titles=(\"\"))\n",
    "\n",
    "fig3.add_trace(go.Pie(values=books_byGenre['Name'],\n",
    "                     title='Genre',\n",
    "                     labels=['Non Fiction', 'Fiction'],\n",
    "                     textinfo='label+percent',\n",
    "                     insidetextorientation='radial',\n",
    "                     hole=0.3,\n",
    "                     marker=dict(colors=['Gray','Salmon'], \n",
    "                                   line_color='Gray', \n",
    "                                   line_width=1),\n",
    "                     textfont={'color': '#FFFFFF', 'size': 12},\n",
    "                     textfont_size=12))"
   ]
  },
  {
   "cell_type": "markdown",
   "id": "78169a72",
   "metadata": {
    "papermill": {
     "duration": 0.05604,
     "end_time": "2021-12-12T22:13:37.620856",
     "exception": false,
     "start_time": "2021-12-12T22:13:37.564816",
     "status": "completed"
    },
    "tags": []
   },
   "source": [
    "#### this pie chard shows us the percentage of best selling books based on genre. We can see that 54.3% of best selling books are categorized under non fiction books."
   ]
  },
  {
   "cell_type": "code",
   "execution_count": 32,
   "id": "55d62ad0",
   "metadata": {
    "execution": {
     "iopub.execute_input": "2021-12-12T22:13:37.740090Z",
     "iopub.status.busy": "2021-12-12T22:13:37.739041Z",
     "iopub.status.idle": "2021-12-12T22:13:37.779118Z",
     "shell.execute_reply": "2021-12-12T22:13:37.779713Z",
     "shell.execute_reply.started": "2021-12-12T16:41:47.603571Z"
    },
    "papermill": {
     "duration": 0.100728,
     "end_time": "2021-12-12T22:13:37.779892",
     "exception": false,
     "start_time": "2021-12-12T22:13:37.679164",
     "status": "completed"
    },
    "tags": []
   },
   "outputs": [
    {
     "data": {
      "text/html": [
       "<div>                            <div id=\"19a39210-91b9-4eb6-b68d-c79de8c1efe0\" class=\"plotly-graph-div\" style=\"height:525px; width:100%;\"></div>            <script type=\"text/javascript\">                require([\"plotly\"], function(Plotly) {                    window.PLOTLYENV=window.PLOTLYENV || {};                                    if (document.getElementById(\"19a39210-91b9-4eb6-b68d-c79de8c1efe0\")) {                    Plotly.newPlot(                        \"19a39210-91b9-4eb6-b68d-c79de8c1efe0\",                        [{\"name\":\"User Rating\",\"x\":[4.7,4.6,4.7,4.7,4.8,4.4,4.7,4.7,4.7,4.6,4.6,4.6,4.5,4.6,4.5,4.6,4.4,4.5,4.8,4.6,3.9,4.6,4.3,4.6,4.7,4.2,4.6,4.6,4.8,4.7,4.8,4.8,4.7,4.7,4.6,4.5,4.9,4.8,4.6,4.8,4.5,4.7,4.7,4.7,4.3,4.8,4.8,4.6,4.8,4.4,4.6,4.3,4.2,4.8,4.6,4.6,4.5,4.8,4.8,4.8,4.6,4.6,4.5,4.6,4.7,4.8,4.9,4.9,4.9,4.9,4.9,4.9,4.8,4.6,4.5,4.5,4.3,4.5,4.7,4.7,4.7,4.7,4.6,4.7,4.4,4.4,4.5,3.8,4.5,4.2,4.7,4.4,4.7,4.4,4.6,4.5,4.6,4.8,4.6,4.6,4.6,3.6,4.8,4.6,4.0,4.6,4.5,4.8,4.9,4.6,4.4,4.8,4.9,4.8,4.9,4.0,4.9,4.9,4.9,4.7,4.8,4.8,4.7,4.4,4.8,4.7,4.3,4.8,4.9,4.7,4.8,4.6,4.8,4.3,4.4,4.1,4.6,4.4,4.8,4.9,4.6,4.5,4.6,4.5,4.6,4.7,4.6,4.6,4.8,4.8,4.5,4.9,4.6,4.5,4.5,4.4,4.8,4.5,4.1,4.9,4.5,4.5,4.2,4.8,4.8,4.5,4.7,4.8,4.7,4.4,4.6,4.5,4.8,4.8,4.6,4.7,4.6,4.9,4.9,4.8,4.2,4.6,4.5,4.3,4.6,4.6,4.7,4.8,4.8,4.7,4.3,4.5,4.8,4.6,4.7,4.6,4.9,4.9,4.8,4.6,4.8,4.7,4.7,4.8,4.1,4.7,4.6,4.6,4.9,4.0,4.5,4.6,4.5,4.4,4.3,4.3,4.8,4.8,4.7,4.7,4.6,4.7,4.7,4.8,4.2,4.8,4.7,4.6,4.8,4.8,3.3,4.7,4.3,4.3,4.8,4.4,4.8,4.1,4.0,4.7,4.6,4.6,4.7,4.8,4.1,4.7,4.7,4.7,4.4,4.8,3.9,4.4,4.5,4.7,4.3,4.6,4.8,4.8,4.8,4.7,4.7,4.8,4.7,4.3,4.7,4.8,4.9,4.4,4.5,4.4,4.8,4.2,4.8,4.9,4.8,4.7,4.5,4.8,4.6,4.8,4.4,4.3,4.3,4.8,4.8,4.8,4.5,4.4,4.8,4.6,4.3,4.3,4.6,4.6,4.8,4.6,4.6,4.5,4.8,4.6,4.7,4.7,4.7,4.4,4.4,4.7,4.7,4.8,4.7,4.9,4.6,4.9,4.8,4.7,4.7,4.6,4.5,4.5,4.3,4.6,4.3,4.8,4.6,4.8,4.5,4.7,4.5,4.8,4.3,4.9,4.8,4.7,4.8,4.5,4.6,4.7,4.7,4.8,4.4,4.4,4.8,4.8,4.8,4.6,4.4,4.5,4.2,4.8,4.9,4.7],\"type\":\"box\",\"marker\":{\"color\":\"Salmon\"}}],                        {\"template\":{\"data\":{\"bar\":[{\"error_x\":{\"color\":\"#2a3f5f\"},\"error_y\":{\"color\":\"#2a3f5f\"},\"marker\":{\"line\":{\"color\":\"#E5ECF6\",\"width\":0.5},\"pattern\":{\"fillmode\":\"overlay\",\"size\":10,\"solidity\":0.2}},\"type\":\"bar\"}],\"barpolar\":[{\"marker\":{\"line\":{\"color\":\"#E5ECF6\",\"width\":0.5},\"pattern\":{\"fillmode\":\"overlay\",\"size\":10,\"solidity\":0.2}},\"type\":\"barpolar\"}],\"carpet\":[{\"aaxis\":{\"endlinecolor\":\"#2a3f5f\",\"gridcolor\":\"white\",\"linecolor\":\"white\",\"minorgridcolor\":\"white\",\"startlinecolor\":\"#2a3f5f\"},\"baxis\":{\"endlinecolor\":\"#2a3f5f\",\"gridcolor\":\"white\",\"linecolor\":\"white\",\"minorgridcolor\":\"white\",\"startlinecolor\":\"#2a3f5f\"},\"type\":\"carpet\"}],\"choropleth\":[{\"colorbar\":{\"outlinewidth\":0,\"ticks\":\"\"},\"type\":\"choropleth\"}],\"contour\":[{\"colorbar\":{\"outlinewidth\":0,\"ticks\":\"\"},\"colorscale\":[[0.0,\"#0d0887\"],[0.1111111111111111,\"#46039f\"],[0.2222222222222222,\"#7201a8\"],[0.3333333333333333,\"#9c179e\"],[0.4444444444444444,\"#bd3786\"],[0.5555555555555556,\"#d8576b\"],[0.6666666666666666,\"#ed7953\"],[0.7777777777777778,\"#fb9f3a\"],[0.8888888888888888,\"#fdca26\"],[1.0,\"#f0f921\"]],\"type\":\"contour\"}],\"contourcarpet\":[{\"colorbar\":{\"outlinewidth\":0,\"ticks\":\"\"},\"type\":\"contourcarpet\"}],\"heatmap\":[{\"colorbar\":{\"outlinewidth\":0,\"ticks\":\"\"},\"colorscale\":[[0.0,\"#0d0887\"],[0.1111111111111111,\"#46039f\"],[0.2222222222222222,\"#7201a8\"],[0.3333333333333333,\"#9c179e\"],[0.4444444444444444,\"#bd3786\"],[0.5555555555555556,\"#d8576b\"],[0.6666666666666666,\"#ed7953\"],[0.7777777777777778,\"#fb9f3a\"],[0.8888888888888888,\"#fdca26\"],[1.0,\"#f0f921\"]],\"type\":\"heatmap\"}],\"heatmapgl\":[{\"colorbar\":{\"outlinewidth\":0,\"ticks\":\"\"},\"colorscale\":[[0.0,\"#0d0887\"],[0.1111111111111111,\"#46039f\"],[0.2222222222222222,\"#7201a8\"],[0.3333333333333333,\"#9c179e\"],[0.4444444444444444,\"#bd3786\"],[0.5555555555555556,\"#d8576b\"],[0.6666666666666666,\"#ed7953\"],[0.7777777777777778,\"#fb9f3a\"],[0.8888888888888888,\"#fdca26\"],[1.0,\"#f0f921\"]],\"type\":\"heatmapgl\"}],\"histogram\":[{\"marker\":{\"pattern\":{\"fillmode\":\"overlay\",\"size\":10,\"solidity\":0.2}},\"type\":\"histogram\"}],\"histogram2d\":[{\"colorbar\":{\"outlinewidth\":0,\"ticks\":\"\"},\"colorscale\":[[0.0,\"#0d0887\"],[0.1111111111111111,\"#46039f\"],[0.2222222222222222,\"#7201a8\"],[0.3333333333333333,\"#9c179e\"],[0.4444444444444444,\"#bd3786\"],[0.5555555555555556,\"#d8576b\"],[0.6666666666666666,\"#ed7953\"],[0.7777777777777778,\"#fb9f3a\"],[0.8888888888888888,\"#fdca26\"],[1.0,\"#f0f921\"]],\"type\":\"histogram2d\"}],\"histogram2dcontour\":[{\"colorbar\":{\"outlinewidth\":0,\"ticks\":\"\"},\"colorscale\":[[0.0,\"#0d0887\"],[0.1111111111111111,\"#46039f\"],[0.2222222222222222,\"#7201a8\"],[0.3333333333333333,\"#9c179e\"],[0.4444444444444444,\"#bd3786\"],[0.5555555555555556,\"#d8576b\"],[0.6666666666666666,\"#ed7953\"],[0.7777777777777778,\"#fb9f3a\"],[0.8888888888888888,\"#fdca26\"],[1.0,\"#f0f921\"]],\"type\":\"histogram2dcontour\"}],\"mesh3d\":[{\"colorbar\":{\"outlinewidth\":0,\"ticks\":\"\"},\"type\":\"mesh3d\"}],\"parcoords\":[{\"line\":{\"colorbar\":{\"outlinewidth\":0,\"ticks\":\"\"}},\"type\":\"parcoords\"}],\"pie\":[{\"automargin\":true,\"type\":\"pie\"}],\"scatter\":[{\"marker\":{\"colorbar\":{\"outlinewidth\":0,\"ticks\":\"\"}},\"type\":\"scatter\"}],\"scatter3d\":[{\"line\":{\"colorbar\":{\"outlinewidth\":0,\"ticks\":\"\"}},\"marker\":{\"colorbar\":{\"outlinewidth\":0,\"ticks\":\"\"}},\"type\":\"scatter3d\"}],\"scattercarpet\":[{\"marker\":{\"colorbar\":{\"outlinewidth\":0,\"ticks\":\"\"}},\"type\":\"scattercarpet\"}],\"scattergeo\":[{\"marker\":{\"colorbar\":{\"outlinewidth\":0,\"ticks\":\"\"}},\"type\":\"scattergeo\"}],\"scattergl\":[{\"marker\":{\"colorbar\":{\"outlinewidth\":0,\"ticks\":\"\"}},\"type\":\"scattergl\"}],\"scattermapbox\":[{\"marker\":{\"colorbar\":{\"outlinewidth\":0,\"ticks\":\"\"}},\"type\":\"scattermapbox\"}],\"scatterpolar\":[{\"marker\":{\"colorbar\":{\"outlinewidth\":0,\"ticks\":\"\"}},\"type\":\"scatterpolar\"}],\"scatterpolargl\":[{\"marker\":{\"colorbar\":{\"outlinewidth\":0,\"ticks\":\"\"}},\"type\":\"scatterpolargl\"}],\"scatterternary\":[{\"marker\":{\"colorbar\":{\"outlinewidth\":0,\"ticks\":\"\"}},\"type\":\"scatterternary\"}],\"surface\":[{\"colorbar\":{\"outlinewidth\":0,\"ticks\":\"\"},\"colorscale\":[[0.0,\"#0d0887\"],[0.1111111111111111,\"#46039f\"],[0.2222222222222222,\"#7201a8\"],[0.3333333333333333,\"#9c179e\"],[0.4444444444444444,\"#bd3786\"],[0.5555555555555556,\"#d8576b\"],[0.6666666666666666,\"#ed7953\"],[0.7777777777777778,\"#fb9f3a\"],[0.8888888888888888,\"#fdca26\"],[1.0,\"#f0f921\"]],\"type\":\"surface\"}],\"table\":[{\"cells\":{\"fill\":{\"color\":\"#EBF0F8\"},\"line\":{\"color\":\"white\"}},\"header\":{\"fill\":{\"color\":\"#C8D4E3\"},\"line\":{\"color\":\"white\"}},\"type\":\"table\"}]},\"layout\":{\"annotationdefaults\":{\"arrowcolor\":\"#2a3f5f\",\"arrowhead\":0,\"arrowwidth\":1},\"autotypenumbers\":\"strict\",\"coloraxis\":{\"colorbar\":{\"outlinewidth\":0,\"ticks\":\"\"}},\"colorscale\":{\"diverging\":[[0,\"#8e0152\"],[0.1,\"#c51b7d\"],[0.2,\"#de77ae\"],[0.3,\"#f1b6da\"],[0.4,\"#fde0ef\"],[0.5,\"#f7f7f7\"],[0.6,\"#e6f5d0\"],[0.7,\"#b8e186\"],[0.8,\"#7fbc41\"],[0.9,\"#4d9221\"],[1,\"#276419\"]],\"sequential\":[[0.0,\"#0d0887\"],[0.1111111111111111,\"#46039f\"],[0.2222222222222222,\"#7201a8\"],[0.3333333333333333,\"#9c179e\"],[0.4444444444444444,\"#bd3786\"],[0.5555555555555556,\"#d8576b\"],[0.6666666666666666,\"#ed7953\"],[0.7777777777777778,\"#fb9f3a\"],[0.8888888888888888,\"#fdca26\"],[1.0,\"#f0f921\"]],\"sequentialminus\":[[0.0,\"#0d0887\"],[0.1111111111111111,\"#46039f\"],[0.2222222222222222,\"#7201a8\"],[0.3333333333333333,\"#9c179e\"],[0.4444444444444444,\"#bd3786\"],[0.5555555555555556,\"#d8576b\"],[0.6666666666666666,\"#ed7953\"],[0.7777777777777778,\"#fb9f3a\"],[0.8888888888888888,\"#fdca26\"],[1.0,\"#f0f921\"]]},\"colorway\":[\"#636efa\",\"#EF553B\",\"#00cc96\",\"#ab63fa\",\"#FFA15A\",\"#19d3f3\",\"#FF6692\",\"#B6E880\",\"#FF97FF\",\"#FECB52\"],\"font\":{\"color\":\"#2a3f5f\"},\"geo\":{\"bgcolor\":\"white\",\"lakecolor\":\"white\",\"landcolor\":\"#E5ECF6\",\"showlakes\":true,\"showland\":true,\"subunitcolor\":\"white\"},\"hoverlabel\":{\"align\":\"left\"},\"hovermode\":\"closest\",\"mapbox\":{\"style\":\"light\"},\"paper_bgcolor\":\"white\",\"plot_bgcolor\":\"#E5ECF6\",\"polar\":{\"angularaxis\":{\"gridcolor\":\"white\",\"linecolor\":\"white\",\"ticks\":\"\"},\"bgcolor\":\"#E5ECF6\",\"radialaxis\":{\"gridcolor\":\"white\",\"linecolor\":\"white\",\"ticks\":\"\"}},\"scene\":{\"xaxis\":{\"backgroundcolor\":\"#E5ECF6\",\"gridcolor\":\"white\",\"gridwidth\":2,\"linecolor\":\"white\",\"showbackground\":true,\"ticks\":\"\",\"zerolinecolor\":\"white\"},\"yaxis\":{\"backgroundcolor\":\"#E5ECF6\",\"gridcolor\":\"white\",\"gridwidth\":2,\"linecolor\":\"white\",\"showbackground\":true,\"ticks\":\"\",\"zerolinecolor\":\"white\"},\"zaxis\":{\"backgroundcolor\":\"#E5ECF6\",\"gridcolor\":\"white\",\"gridwidth\":2,\"linecolor\":\"white\",\"showbackground\":true,\"ticks\":\"\",\"zerolinecolor\":\"white\"}},\"shapedefaults\":{\"line\":{\"color\":\"#2a3f5f\"}},\"ternary\":{\"aaxis\":{\"gridcolor\":\"white\",\"linecolor\":\"white\",\"ticks\":\"\"},\"baxis\":{\"gridcolor\":\"white\",\"linecolor\":\"white\",\"ticks\":\"\"},\"bgcolor\":\"#E5ECF6\",\"caxis\":{\"gridcolor\":\"white\",\"linecolor\":\"white\",\"ticks\":\"\"}},\"title\":{\"x\":0.05},\"xaxis\":{\"automargin\":true,\"gridcolor\":\"white\",\"linecolor\":\"white\",\"ticks\":\"\",\"title\":{\"standoff\":15},\"zerolinecolor\":\"white\",\"zerolinewidth\":2},\"yaxis\":{\"automargin\":true,\"gridcolor\":\"white\",\"linecolor\":\"white\",\"ticks\":\"\",\"title\":{\"standoff\":15},\"zerolinecolor\":\"white\",\"zerolinewidth\":2}}},\"xaxis\":{\"anchor\":\"y\",\"domain\":[0.0,1.0]},\"yaxis\":{\"anchor\":\"x\",\"domain\":[0.0,1.0]}},                        {\"responsive\": true}                    ).then(function(){\n",
       "                            \n",
       "var gd = document.getElementById('19a39210-91b9-4eb6-b68d-c79de8c1efe0');\n",
       "var x = new MutationObserver(function (mutations, observer) {{\n",
       "        var display = window.getComputedStyle(gd).display;\n",
       "        if (!display || display === 'none') {{\n",
       "            console.log([gd, 'removed!']);\n",
       "            Plotly.purge(gd);\n",
       "            observer.disconnect();\n",
       "        }}\n",
       "}});\n",
       "\n",
       "// Listen for the removal of the full notebook cells\n",
       "var notebookContainer = gd.closest('#notebook-container');\n",
       "if (notebookContainer) {{\n",
       "    x.observe(notebookContainer, {childList: true});\n",
       "}}\n",
       "\n",
       "// Listen for the clearing of the current output cell\n",
       "var outputEl = gd.closest('.output');\n",
       "if (outputEl) {{\n",
       "    x.observe(outputEl, {childList: true});\n",
       "}}\n",
       "\n",
       "                        })                };                });            </script>        </div>"
      ]
     },
     "metadata": {},
     "output_type": "display_data"
    }
   ],
   "source": [
    "fig_4 = make_subplots(rows=1, cols=1, specs=[[{'type': 'xy'}]])\n",
    "fig_4.add_trace(go.Box(x=books_df1['User Rating'],\n",
    "                      name=\"User Rating\"))\n",
    "fig_4.update_traces(marker_color='Salmon')"
   ]
  },
  {
   "cell_type": "code",
   "execution_count": 33,
   "id": "aa9b7e13",
   "metadata": {
    "execution": {
     "iopub.execute_input": "2021-12-12T22:13:37.898174Z",
     "iopub.status.busy": "2021-12-12T22:13:37.897139Z",
     "iopub.status.idle": "2021-12-12T22:13:37.918976Z",
     "shell.execute_reply": "2021-12-12T22:13:37.919504Z",
     "shell.execute_reply.started": "2021-12-12T16:41:47.647245Z"
    },
    "papermill": {
     "duration": 0.082696,
     "end_time": "2021-12-12T22:13:37.919699",
     "exception": false,
     "start_time": "2021-12-12T22:13:37.837003",
     "status": "completed"
    },
    "tags": []
   },
   "outputs": [
    {
     "data": {
      "text/html": [
       "<div>                            <div id=\"6ec2f2d5-2a5d-4cfd-b41a-583210e352a8\" class=\"plotly-graph-div\" style=\"height:525px; width:100%;\"></div>            <script type=\"text/javascript\">                require([\"plotly\"], function(Plotly) {                    window.PLOTLYENV=window.PLOTLYENV || {};                                    if (document.getElementById(\"6ec2f2d5-2a5d-4cfd-b41a-583210e352a8\")) {                    Plotly.newPlot(                        \"6ec2f2d5-2a5d-4cfd-b41a-583210e352a8\",                        [{\"name\":\"Reviews\",\"x\":[17350,2052,18979,21424,7665,12643,19735,19699,5983,23848,460,4149,5153,5013,2313,2925,2951,2426,9198,36348,6310,15921,12159,798,9374,491,5360,1909,1296,615,61133,11113,10070,3729,9769,471,14344,4505,10369,16244,2884,22614,4761,1542,6143,4022,3871,4866,1329,4642,1541,1924,2094,10922,2137,1651,6679,6812,3837,6540,7955,27098,17684,37,15845,3181,5062,4786,7235,12619,9089,5470,5118,2134,2525,720,956,6346,5505,5505,28729,5413,10721,4370,6042,23631,20262,47265,13964,13677,17323,1555,3642,1215,5594,408,4799,14038,7660,22288,1365,14982,9568,1636,57271,10141,3457,8837,7038,5972,25624,5476,5867,4148,19622,23973,7758,3146,10052,3564,13471,1930,15779,15526,3776,25001,5272,3490,2812,4896,9737,1320,16643,7153,4571,29651,5299,7396,7062,19576,978,4748,8393,11391,8634,9342,10927,5235,8916,2507,3673,11881,6990,6132,3014,7550,3828,2752,1467,1884,25706,8491,1649,18613,9867,1386,10199,2926,17739,3113,5542,26741,5347,7866,5680,5178,8093,3192,21834,6169,4519,3163,1831,18904,21930,10426,10820,548,16990,3503,13616,8580,4757,10009,1985,22536,7150,3836,7802,3619,23047,9366,1265,3923,2272,973,220,7827,9382,5069,1583,1907,23114,637,2314,4587,25554,1680,4725,35799,2580,11813,3536,6600,1789,12361,858,23148,8081,23358,9372,4633,13061,3523,2774,440,8922,2023,1859,50482,3207,803,23308,5836,79446,7747,7251,7251,10559,5249,33844,11616,13609,8587,29442,11098,9947,13871,6982,32122,32122,16949,9289,7368,4028,4628,5396,4247,22641,6222,4506,8747,1655,7861,6247,39459,10101,5898,2744,49288,1201,807,3759,2663,3428,2876,3601,7058,9784,10795,10191,14493,2186,1204,2091,19720,2122,27536,4290,26490,5487,6377,1463,3759,3503,11550,3801,3796,9030,19546,7508,8842,30183,6169,7034,11034,7932,1904,3319,11128,5977,26234,4360,2282,438,11676,2586,29673,6740,5956,6108,4585,3829,8958,5492,9292,1873,8170,3341,7497,13779,87841,9967,6669,17044,10760,1302,21625,9413,14331],\"type\":\"box\",\"marker\":{\"color\":\"Salmon\"}}],                        {\"template\":{\"data\":{\"bar\":[{\"error_x\":{\"color\":\"#2a3f5f\"},\"error_y\":{\"color\":\"#2a3f5f\"},\"marker\":{\"line\":{\"color\":\"#E5ECF6\",\"width\":0.5},\"pattern\":{\"fillmode\":\"overlay\",\"size\":10,\"solidity\":0.2}},\"type\":\"bar\"}],\"barpolar\":[{\"marker\":{\"line\":{\"color\":\"#E5ECF6\",\"width\":0.5},\"pattern\":{\"fillmode\":\"overlay\",\"size\":10,\"solidity\":0.2}},\"type\":\"barpolar\"}],\"carpet\":[{\"aaxis\":{\"endlinecolor\":\"#2a3f5f\",\"gridcolor\":\"white\",\"linecolor\":\"white\",\"minorgridcolor\":\"white\",\"startlinecolor\":\"#2a3f5f\"},\"baxis\":{\"endlinecolor\":\"#2a3f5f\",\"gridcolor\":\"white\",\"linecolor\":\"white\",\"minorgridcolor\":\"white\",\"startlinecolor\":\"#2a3f5f\"},\"type\":\"carpet\"}],\"choropleth\":[{\"colorbar\":{\"outlinewidth\":0,\"ticks\":\"\"},\"type\":\"choropleth\"}],\"contour\":[{\"colorbar\":{\"outlinewidth\":0,\"ticks\":\"\"},\"colorscale\":[[0.0,\"#0d0887\"],[0.1111111111111111,\"#46039f\"],[0.2222222222222222,\"#7201a8\"],[0.3333333333333333,\"#9c179e\"],[0.4444444444444444,\"#bd3786\"],[0.5555555555555556,\"#d8576b\"],[0.6666666666666666,\"#ed7953\"],[0.7777777777777778,\"#fb9f3a\"],[0.8888888888888888,\"#fdca26\"],[1.0,\"#f0f921\"]],\"type\":\"contour\"}],\"contourcarpet\":[{\"colorbar\":{\"outlinewidth\":0,\"ticks\":\"\"},\"type\":\"contourcarpet\"}],\"heatmap\":[{\"colorbar\":{\"outlinewidth\":0,\"ticks\":\"\"},\"colorscale\":[[0.0,\"#0d0887\"],[0.1111111111111111,\"#46039f\"],[0.2222222222222222,\"#7201a8\"],[0.3333333333333333,\"#9c179e\"],[0.4444444444444444,\"#bd3786\"],[0.5555555555555556,\"#d8576b\"],[0.6666666666666666,\"#ed7953\"],[0.7777777777777778,\"#fb9f3a\"],[0.8888888888888888,\"#fdca26\"],[1.0,\"#f0f921\"]],\"type\":\"heatmap\"}],\"heatmapgl\":[{\"colorbar\":{\"outlinewidth\":0,\"ticks\":\"\"},\"colorscale\":[[0.0,\"#0d0887\"],[0.1111111111111111,\"#46039f\"],[0.2222222222222222,\"#7201a8\"],[0.3333333333333333,\"#9c179e\"],[0.4444444444444444,\"#bd3786\"],[0.5555555555555556,\"#d8576b\"],[0.6666666666666666,\"#ed7953\"],[0.7777777777777778,\"#fb9f3a\"],[0.8888888888888888,\"#fdca26\"],[1.0,\"#f0f921\"]],\"type\":\"heatmapgl\"}],\"histogram\":[{\"marker\":{\"pattern\":{\"fillmode\":\"overlay\",\"size\":10,\"solidity\":0.2}},\"type\":\"histogram\"}],\"histogram2d\":[{\"colorbar\":{\"outlinewidth\":0,\"ticks\":\"\"},\"colorscale\":[[0.0,\"#0d0887\"],[0.1111111111111111,\"#46039f\"],[0.2222222222222222,\"#7201a8\"],[0.3333333333333333,\"#9c179e\"],[0.4444444444444444,\"#bd3786\"],[0.5555555555555556,\"#d8576b\"],[0.6666666666666666,\"#ed7953\"],[0.7777777777777778,\"#fb9f3a\"],[0.8888888888888888,\"#fdca26\"],[1.0,\"#f0f921\"]],\"type\":\"histogram2d\"}],\"histogram2dcontour\":[{\"colorbar\":{\"outlinewidth\":0,\"ticks\":\"\"},\"colorscale\":[[0.0,\"#0d0887\"],[0.1111111111111111,\"#46039f\"],[0.2222222222222222,\"#7201a8\"],[0.3333333333333333,\"#9c179e\"],[0.4444444444444444,\"#bd3786\"],[0.5555555555555556,\"#d8576b\"],[0.6666666666666666,\"#ed7953\"],[0.7777777777777778,\"#fb9f3a\"],[0.8888888888888888,\"#fdca26\"],[1.0,\"#f0f921\"]],\"type\":\"histogram2dcontour\"}],\"mesh3d\":[{\"colorbar\":{\"outlinewidth\":0,\"ticks\":\"\"},\"type\":\"mesh3d\"}],\"parcoords\":[{\"line\":{\"colorbar\":{\"outlinewidth\":0,\"ticks\":\"\"}},\"type\":\"parcoords\"}],\"pie\":[{\"automargin\":true,\"type\":\"pie\"}],\"scatter\":[{\"marker\":{\"colorbar\":{\"outlinewidth\":0,\"ticks\":\"\"}},\"type\":\"scatter\"}],\"scatter3d\":[{\"line\":{\"colorbar\":{\"outlinewidth\":0,\"ticks\":\"\"}},\"marker\":{\"colorbar\":{\"outlinewidth\":0,\"ticks\":\"\"}},\"type\":\"scatter3d\"}],\"scattercarpet\":[{\"marker\":{\"colorbar\":{\"outlinewidth\":0,\"ticks\":\"\"}},\"type\":\"scattercarpet\"}],\"scattergeo\":[{\"marker\":{\"colorbar\":{\"outlinewidth\":0,\"ticks\":\"\"}},\"type\":\"scattergeo\"}],\"scattergl\":[{\"marker\":{\"colorbar\":{\"outlinewidth\":0,\"ticks\":\"\"}},\"type\":\"scattergl\"}],\"scattermapbox\":[{\"marker\":{\"colorbar\":{\"outlinewidth\":0,\"ticks\":\"\"}},\"type\":\"scattermapbox\"}],\"scatterpolar\":[{\"marker\":{\"colorbar\":{\"outlinewidth\":0,\"ticks\":\"\"}},\"type\":\"scatterpolar\"}],\"scatterpolargl\":[{\"marker\":{\"colorbar\":{\"outlinewidth\":0,\"ticks\":\"\"}},\"type\":\"scatterpolargl\"}],\"scatterternary\":[{\"marker\":{\"colorbar\":{\"outlinewidth\":0,\"ticks\":\"\"}},\"type\":\"scatterternary\"}],\"surface\":[{\"colorbar\":{\"outlinewidth\":0,\"ticks\":\"\"},\"colorscale\":[[0.0,\"#0d0887\"],[0.1111111111111111,\"#46039f\"],[0.2222222222222222,\"#7201a8\"],[0.3333333333333333,\"#9c179e\"],[0.4444444444444444,\"#bd3786\"],[0.5555555555555556,\"#d8576b\"],[0.6666666666666666,\"#ed7953\"],[0.7777777777777778,\"#fb9f3a\"],[0.8888888888888888,\"#fdca26\"],[1.0,\"#f0f921\"]],\"type\":\"surface\"}],\"table\":[{\"cells\":{\"fill\":{\"color\":\"#EBF0F8\"},\"line\":{\"color\":\"white\"}},\"header\":{\"fill\":{\"color\":\"#C8D4E3\"},\"line\":{\"color\":\"white\"}},\"type\":\"table\"}]},\"layout\":{\"annotationdefaults\":{\"arrowcolor\":\"#2a3f5f\",\"arrowhead\":0,\"arrowwidth\":1},\"autotypenumbers\":\"strict\",\"coloraxis\":{\"colorbar\":{\"outlinewidth\":0,\"ticks\":\"\"}},\"colorscale\":{\"diverging\":[[0,\"#8e0152\"],[0.1,\"#c51b7d\"],[0.2,\"#de77ae\"],[0.3,\"#f1b6da\"],[0.4,\"#fde0ef\"],[0.5,\"#f7f7f7\"],[0.6,\"#e6f5d0\"],[0.7,\"#b8e186\"],[0.8,\"#7fbc41\"],[0.9,\"#4d9221\"],[1,\"#276419\"]],\"sequential\":[[0.0,\"#0d0887\"],[0.1111111111111111,\"#46039f\"],[0.2222222222222222,\"#7201a8\"],[0.3333333333333333,\"#9c179e\"],[0.4444444444444444,\"#bd3786\"],[0.5555555555555556,\"#d8576b\"],[0.6666666666666666,\"#ed7953\"],[0.7777777777777778,\"#fb9f3a\"],[0.8888888888888888,\"#fdca26\"],[1.0,\"#f0f921\"]],\"sequentialminus\":[[0.0,\"#0d0887\"],[0.1111111111111111,\"#46039f\"],[0.2222222222222222,\"#7201a8\"],[0.3333333333333333,\"#9c179e\"],[0.4444444444444444,\"#bd3786\"],[0.5555555555555556,\"#d8576b\"],[0.6666666666666666,\"#ed7953\"],[0.7777777777777778,\"#fb9f3a\"],[0.8888888888888888,\"#fdca26\"],[1.0,\"#f0f921\"]]},\"colorway\":[\"#636efa\",\"#EF553B\",\"#00cc96\",\"#ab63fa\",\"#FFA15A\",\"#19d3f3\",\"#FF6692\",\"#B6E880\",\"#FF97FF\",\"#FECB52\"],\"font\":{\"color\":\"#2a3f5f\"},\"geo\":{\"bgcolor\":\"white\",\"lakecolor\":\"white\",\"landcolor\":\"#E5ECF6\",\"showlakes\":true,\"showland\":true,\"subunitcolor\":\"white\"},\"hoverlabel\":{\"align\":\"left\"},\"hovermode\":\"closest\",\"mapbox\":{\"style\":\"light\"},\"paper_bgcolor\":\"white\",\"plot_bgcolor\":\"#E5ECF6\",\"polar\":{\"angularaxis\":{\"gridcolor\":\"white\",\"linecolor\":\"white\",\"ticks\":\"\"},\"bgcolor\":\"#E5ECF6\",\"radialaxis\":{\"gridcolor\":\"white\",\"linecolor\":\"white\",\"ticks\":\"\"}},\"scene\":{\"xaxis\":{\"backgroundcolor\":\"#E5ECF6\",\"gridcolor\":\"white\",\"gridwidth\":2,\"linecolor\":\"white\",\"showbackground\":true,\"ticks\":\"\",\"zerolinecolor\":\"white\"},\"yaxis\":{\"backgroundcolor\":\"#E5ECF6\",\"gridcolor\":\"white\",\"gridwidth\":2,\"linecolor\":\"white\",\"showbackground\":true,\"ticks\":\"\",\"zerolinecolor\":\"white\"},\"zaxis\":{\"backgroundcolor\":\"#E5ECF6\",\"gridcolor\":\"white\",\"gridwidth\":2,\"linecolor\":\"white\",\"showbackground\":true,\"ticks\":\"\",\"zerolinecolor\":\"white\"}},\"shapedefaults\":{\"line\":{\"color\":\"#2a3f5f\"}},\"ternary\":{\"aaxis\":{\"gridcolor\":\"white\",\"linecolor\":\"white\",\"ticks\":\"\"},\"baxis\":{\"gridcolor\":\"white\",\"linecolor\":\"white\",\"ticks\":\"\"},\"bgcolor\":\"#E5ECF6\",\"caxis\":{\"gridcolor\":\"white\",\"linecolor\":\"white\",\"ticks\":\"\"}},\"title\":{\"x\":0.05},\"xaxis\":{\"automargin\":true,\"gridcolor\":\"white\",\"linecolor\":\"white\",\"ticks\":\"\",\"title\":{\"standoff\":15},\"zerolinecolor\":\"white\",\"zerolinewidth\":2},\"yaxis\":{\"automargin\":true,\"gridcolor\":\"white\",\"linecolor\":\"white\",\"ticks\":\"\",\"title\":{\"standoff\":15},\"zerolinecolor\":\"white\",\"zerolinewidth\":2}}},\"xaxis\":{\"anchor\":\"y\",\"domain\":[0.0,1.0]},\"yaxis\":{\"anchor\":\"x\",\"domain\":[0.0,1.0]}},                        {\"responsive\": true}                    ).then(function(){\n",
       "                            \n",
       "var gd = document.getElementById('6ec2f2d5-2a5d-4cfd-b41a-583210e352a8');\n",
       "var x = new MutationObserver(function (mutations, observer) {{\n",
       "        var display = window.getComputedStyle(gd).display;\n",
       "        if (!display || display === 'none') {{\n",
       "            console.log([gd, 'removed!']);\n",
       "            Plotly.purge(gd);\n",
       "            observer.disconnect();\n",
       "        }}\n",
       "}});\n",
       "\n",
       "// Listen for the removal of the full notebook cells\n",
       "var notebookContainer = gd.closest('#notebook-container');\n",
       "if (notebookContainer) {{\n",
       "    x.observe(notebookContainer, {childList: true});\n",
       "}}\n",
       "\n",
       "// Listen for the clearing of the current output cell\n",
       "var outputEl = gd.closest('.output');\n",
       "if (outputEl) {{\n",
       "    x.observe(outputEl, {childList: true});\n",
       "}}\n",
       "\n",
       "                        })                };                });            </script>        </div>"
      ]
     },
     "metadata": {},
     "output_type": "display_data"
    }
   ],
   "source": [
    "fig_5 = make_subplots(rows=1, cols=1, specs=[[{'type': 'xy'}]])\n",
    "fig_5.add_trace(go.Box(x=books_df1['Reviews'],\n",
    "                      name=\"Reviews\"))\n",
    "fig_5.update_traces(marker_color='Salmon')"
   ]
  },
  {
   "cell_type": "markdown",
   "id": "63d03134",
   "metadata": {
    "papermill": {
     "duration": 0.057722,
     "end_time": "2021-12-12T22:13:38.035863",
     "exception": false,
     "start_time": "2021-12-12T22:13:37.978141",
     "status": "completed"
    },
    "tags": []
   },
   "source": [
    "##### We can observe that the average of user rating is 4.6. Most of population lie between 4.5 and 4.8. There are outliers in the reviews distribution."
   ]
  },
  {
   "cell_type": "markdown",
   "id": "d0815319",
   "metadata": {
    "papermill": {
     "duration": 0.057754,
     "end_time": "2021-12-12T22:13:38.151852",
     "exception": false,
     "start_time": "2021-12-12T22:13:38.094098",
     "status": "completed"
    },
    "tags": []
   },
   "source": [
    "### Hypothesis Testing"
   ]
  },
  {
   "cell_type": "markdown",
   "id": "dd770704",
   "metadata": {
    "papermill": {
     "duration": 0.058585,
     "end_time": "2021-12-12T22:13:38.268438",
     "exception": false,
     "start_time": "2021-12-12T22:13:38.209853",
     "status": "completed"
    },
    "tags": []
   },
   "source": [
    "##### We want to check if the genres differ in terms of rating. First we took the null hypothesis that there is no difference between two sub groups in this case. The alternate hypothesis is there is a difference between the two sub groups.\n",
    "we calculated the difference between the mean of two groups: fiction and non fiction. Then we did testing and sampling 1000 times and find the percentage of all differences that are greater than the observed differences.\n"
   ]
  },
  {
   "cell_type": "code",
   "execution_count": 34,
   "id": "ffea37d1",
   "metadata": {
    "execution": {
     "iopub.execute_input": "2021-12-12T22:13:38.394015Z",
     "iopub.status.busy": "2021-12-12T22:13:38.392958Z",
     "iopub.status.idle": "2021-12-12T22:13:38.394842Z",
     "shell.execute_reply": "2021-12-12T22:13:38.395422Z",
     "shell.execute_reply.started": "2021-12-12T21:00:52.632771Z"
    },
    "papermill": {
     "duration": 0.068306,
     "end_time": "2021-12-12T22:13:38.395599",
     "exception": false,
     "start_time": "2021-12-12T22:13:38.327293",
     "status": "completed"
    },
    "tags": []
   },
   "outputs": [],
   "source": [
    "def diff_in_samples(dist1, dist2, gender1, gender2):\n",
    "    print(\"The average rating \"+str(len(dist1))+\" \"+gender1+\" =\",dist1.mean())\n",
    "    print(\"The average rating \"+str(len(dist2))+\" \"+gender2+\"=\",dist2.mean())\n",
    "    diff_in_mean = dist1.mean()-dist2.mean()\n",
    "    print(\"The difference between mean of \"+gender1+\" ratings and \"+gender2+\" ratings (diff_\"+str(len(dist2))+\")=\",diff_in_mean)\n",
    "    return diff_in_mean"
   ]
  },
  {
   "cell_type": "code",
   "execution_count": 35,
   "id": "13f9c6ca",
   "metadata": {
    "execution": {
     "iopub.execute_input": "2021-12-12T22:13:38.521057Z",
     "iopub.status.busy": "2021-12-12T22:13:38.520028Z",
     "iopub.status.idle": "2021-12-12T22:13:38.529992Z",
     "shell.execute_reply": "2021-12-12T22:13:38.530551Z",
     "shell.execute_reply.started": "2021-12-12T21:00:48.207719Z"
    },
    "papermill": {
     "duration": 0.072685,
     "end_time": "2021-12-12T22:13:38.530748",
     "exception": false,
     "start_time": "2021-12-12T22:13:38.458063",
     "status": "completed"
    },
    "tags": []
   },
   "outputs": [],
   "source": [
    "def calculate_p_value(sample1, sample2, diff, alpha):\n",
    "    #Step 2- Create list to store the average values of both the samples and the difference of them\n",
    "    difference=[]\n",
    "    #Sampling the data for 1000 times\n",
    "    total_sample = list(sample1)\n",
    "    total_sample.extend(sample2)\n",
    "    total_sample = np.array(total_sample)\n",
    "    for i in range(0,1000):\n",
    "        #Picking 100 random numbers \n",
    "        samples = random.sample(range(0, len(total_sample)), 100)\n",
    "        #First 50 random numbers are taken as set 1\n",
    "        set1 = total_sample[samples[:50]].mean()\n",
    "        #Next 50 random numbers are taken as set 2\n",
    "        set2 = total_sample[samples[50:]].mean()\n",
    "        #Taking the differnce between the two sets\n",
    "        difference.append(set1 - set2)\n",
    "        \n",
    "    #Step3- Sorting the values and counting the number of values greater than the threshold\n",
    "    difference.sort()\n",
    "    count = sum(((i > diff) and (i>0)) for i in difference) \n",
    "    pValue = count/len(difference)\n",
    "    print(\"Percentage of values greater than the difference\",diff,\" =\",pValue*100,\"%\")\n",
    "    print(\"The pValue = \",pValue, \"and the significance P(Reject H0 when H0 is true)=\",alpha)\n",
    "    if pValue>alpha:\n",
    "        print(\"We fail to reject the null hypothesis\")\n",
    "    else:\n",
    "        print(\"We can reject the null hypothesis\")\n",
    "    \n",
    "    print('_'*50)\n",
    "    return difference"
   ]
  },
  {
   "cell_type": "code",
   "execution_count": 36,
   "id": "4aee2d67",
   "metadata": {
    "execution": {
     "iopub.execute_input": "2021-12-12T22:13:38.660226Z",
     "iopub.status.busy": "2021-12-12T22:13:38.659315Z",
     "iopub.status.idle": "2021-12-12T22:13:39.409033Z",
     "shell.execute_reply": "2021-12-12T22:13:39.409497Z",
     "shell.execute_reply.started": "2021-12-12T21:16:03.162691Z"
    },
    "papermill": {
     "duration": 0.817524,
     "end_time": "2021-12-12T22:13:39.409705",
     "exception": false,
     "start_time": "2021-12-12T22:13:38.592181",
     "status": "completed"
    },
    "tags": []
   },
   "outputs": [
    {
     "name": "stdout",
     "output_type": "stream",
     "text": [
      "For Sample Size:  200\n",
      "The average rating 100 fiction books = 4.645\n",
      "The average rating 100 Non fictional books= 4.588\n",
      "The difference between mean of fiction books ratings and Non fictional books ratings (diff_100)= 0.056999999999999496\n",
      "Percentage of values greater than the difference 0.056999999999999496  = 11.200000000000001 %\n",
      "The pValue =  0.112 and the significance P(Reject H0 when H0 is true)= 0.05\n",
      "We fail to reject the null hypothesis\n",
      "__________________________________________________\n",
      "For Sample Size:  400\n",
      "The average rating 200 fiction books = 4.646999999999999\n",
      "The average rating 200 Non fictional books= 4.5875\n",
      "The difference between mean of fiction books ratings and Non fictional books ratings (diff_200)= 0.059499999999999\n",
      "Percentage of values greater than the difference 0.059499999999999  = 11.600000000000001 %\n",
      "The pValue =  0.116 and the significance P(Reject H0 when H0 is true)= 0.05\n",
      "We fail to reject the null hypothesis\n",
      "__________________________________________________\n"
     ]
    },
    {
     "data": {
      "image/png": "[encoded data removed]",
      "text/plain": [
       "<Figure size 1080x360 with 3 Axes>"
      ]
     },
     "metadata": {
      "needs_background": "light"
     },
     "output_type": "display_data"
    }
   ],
   "source": [
    "fiction_rating = np.array(books_df[books_df['Genre']==\"Fiction\"]['User Rating'].values)\n",
    "non_fiction_rating = np.array(books_df[books_df['Genre']==\"Non Fiction\"]['User Rating'].values)\n",
    "sample_sizes = [100,200]\n",
    "alpha = 0.05\n",
    "fig, axs = plt.subplots(1, 3,figsize=(15, 5))\n",
    "for j, i in enumerate(sample_sizes):\n",
    "    print(\"For Sample Size: \", 2*i)\n",
    "    \n",
    "    fRating_sample=fiction_rating[random.sample(range(0, fiction_rating.shape[0]), i)]\n",
    "    NfRating_sample=non_fiction_rating[random.sample(range(0, non_fiction_rating.shape[0]), i)]\n",
    "    \n",
    "    diff_in_mean = diff_in_samples(fRating_sample,NfRating_sample, \"fiction books\", \"Non fictional books\")\n",
    "    \n",
    "    #Step 1- Combine both samples of size 50 each to a large sample of size 100 to simulate null hypothesis\n",
    "    differences = calculate_p_value(fRating_sample, NfRating_sample,diff_in_mean, alpha)\n",
    "    #plt_cdfplot_withthreshold(j, colrs[j],differences,threshold=diff_in_mean,sample=i)"
   ]
  }
 ],
 "metadata": {
  "kernelspec": {
   "display_name": "Python 3",
   "language": "python",
   "name": "python3"
  },
  "language_info": {
   "codemirror_mode": {
    "name": "ipython",
    "version": 3
   },
   "file_extension": ".py",
   "mimetype": "text/x-python",
   "name": "python",
   "nbconvert_exporter": "python",
   "pygments_lexer": "ipython3",
   "version": "3.7.12"
  },
  "papermill": {
   "default_parameters": {},
   "duration": 26.740598,
   "end_time": "2021-12-12T22:13:40.280805",
   "environment_variables": {},
   "exception": null,
   "input_path": "__notebook__.ipynb",
   "output_path": "__notebook__.ipynb",
   "parameters": {},
   "start_time": "2021-12-12T22:13:13.540207",
   "version": "2.3.3"
  }
 },
 "nbformat": 4,
 "nbformat_minor": 5
}
